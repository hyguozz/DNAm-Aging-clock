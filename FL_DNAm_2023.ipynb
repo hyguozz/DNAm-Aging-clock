{
  "nbformat": 4,
  "nbformat_minor": 0,
  "metadata": {
    "colab": {
      "provenance": [],
      "authorship_tag": "ABX9TyMmJp2QrYG4EQZfBJk+CvON",
      "include_colab_link": true
    },
    "kernelspec": {
      "name": "python3",
      "display_name": "Python 3"
    },
    "language_info": {
      "name": "python"
    },
    "accelerator": "GPU"
  },
  "cells": [
    {
      "cell_type": "markdown",
      "metadata": {
        "id": "view-in-github",
        "colab_type": "text"
      },
      "source": [
        "<a href=\"https://colab.research.google.com/github/hyguozz/DNAm-Aging-clock/blob/main/FL_DNAm_2023.ipynb\" target=\"_parent\"><img src=\"https://colab.research.google.com/assets/colab-badge.svg\" alt=\"Open In Colab\"/></a>"
      ]
    },
    {
      "cell_type": "code",
      "execution_count": null,
      "metadata": {
        "colab": {
          "base_uri": "https://localhost:8080/"
        },
        "id": "qoDQgohDkxhU",
        "outputId": "f3545304-692c-478e-8dac-46c1953a8088"
      },
      "outputs": [
        {
          "output_type": "stream",
          "name": "stdout",
          "text": [
            "Mounted at /content/drive/\n"
          ]
        }
      ],
      "source": [
        "from google.colab import drive\n",
        "drive.mount(\"/content/drive/\")"
      ]
    },
    {
      "cell_type": "code",
      "source": [
        "!pip3 install pickle5\n",
        "import pickle5 as pickle"
      ],
      "metadata": {
        "colab": {
          "base_uri": "https://localhost:8080/"
        },
        "id": "U_zVGyS7k-bG",
        "outputId": "7060193f-9b3f-4ef7-88ae-c225324bfa04"
      },
      "execution_count": null,
      "outputs": [
        {
          "output_type": "stream",
          "name": "stdout",
          "text": [
            "Looking in indexes: https://pypi.org/simple, https://us-python.pkg.dev/colab-wheels/public/simple/\n",
            "Collecting pickle5\n",
            "  Downloading pickle5-0.0.12-cp37-cp37m-manylinux_2_5_x86_64.manylinux1_x86_64.whl (256 kB)\n",
            "\u001b[K     |████████████████████████████████| 256 kB 14.1 MB/s \n",
            "\u001b[?25hInstalling collected packages: pickle5\n",
            "Successfully installed pickle5-0.0.12\n"
          ]
        }
      ]
    },
    {
      "cell_type": "code",
      "source": [
        "\n",
        "%tensorflow_version 2.x\n",
        "import tensorflow as tf\n",
        "device_name = tf.test.gpu_device_name()\n",
        "if device_name != '/device:GPU:0':\n",
        "  raise SystemError('GPU device not found')\n",
        "print('Found GPU at: {}'.format(device_name))"
      ],
      "metadata": {
        "colab": {
          "base_uri": "https://localhost:8080/"
        },
        "id": "-6MrzXKpk-cr",
        "outputId": "52807b57-0e13-4e73-babf-bca822d6800c"
      },
      "execution_count": null,
      "outputs": [
        {
          "output_type": "stream",
          "name": "stdout",
          "text": [
            "Found GPU at: /device:GPU:0\n"
          ]
        }
      ]
    },
    {
      "cell_type": "code",
      "source": [
        "import numpy as np\n",
        "import random\n",
        "import cv2\n",
        "import os\n",
        "from imutils import paths\n",
        "from sklearn.model_selection import train_test_split\n",
        "from sklearn.preprocessing import LabelBinarizer\n",
        "from sklearn.model_selection import train_test_split\n",
        "from sklearn.utils import shuffle\n",
        "from sklearn.metrics import accuracy_score\n",
        "\n",
        "import tensorflow as tf\n",
        "from tensorflow.keras.models import Sequential\n",
        "from tensorflow.keras.layers import Conv2D\n",
        "from tensorflow.keras.layers import MaxPooling2D\n",
        "from tensorflow.keras.layers import Activation\n",
        "from tensorflow.keras.layers import Flatten\n",
        "from tensorflow.keras.layers import BatchNormalization\n",
        "from tensorflow.keras.layers import Dense\n",
        "from tensorflow.keras.optimizers import SGD\n",
        "from tensorflow.keras import backend as K\n",
        "\n"
      ],
      "metadata": {
        "id": "ropu2OyzlMPn"
      },
      "execution_count": null,
      "outputs": []
    },
    {
      "cell_type": "code",
      "source": [
        "infile = open('/content/drive/MyDrive/Aging/data/DNAm_part1_typeII_2838.pkl','rb')\n",
        "DNAm_data= pickle.load(infile)\n",
        "infile.close()\n",
        "imputer = KNNImputer(n_neighbors=10)\n",
        "DNAm_data = pd.DataFrame(imputer.fit_transform(DNAm_data),columns = DNAm_data.columns)"
      ],
      "metadata": {
        "id": "vXdYjt6GoZtG"
      },
      "execution_count": null,
      "outputs": []
    },
    {
      "cell_type": "code",
      "source": [
        "DNAm_data.shape"
      ],
      "metadata": {
        "colab": {
          "base_uri": "https://localhost:8080/"
        },
        "id": "c3NSBoJBsfAg",
        "outputId": "c5759b8a-fd00-4e49-e3e2-5a4090d0093d"
      },
      "execution_count": null,
      "outputs": [
        {
          "output_type": "execute_result",
          "data": {
            "text/plain": [
              "(2838, 8193)"
            ]
          },
          "metadata": {},
          "execution_count": 7
        }
      ]
    },
    {
      "cell_type": "code",
      "source": [
        "# May 30, 2022\n",
        "# Good\n",
        "#infile = open('/content/drive/MyDrive/Aging/TrainDatasetI17.pkl','rb')\n",
        "infile = open('/content/drive/MyDrive/Aging/TrainDatasetI530.pkl','rb')\n",
        "DNAm_data_train= pickle.load(infile)\n",
        "#DNAm_data_train = DNAm_data_train[DNAm_data_train['age']<100]\n",
        "train = DNAm_data_train.copy()\n",
        "\n",
        "df_age01 = train[train['age']<=0].copy()\n",
        "\n",
        "df_age01 = df_age01.sample(n = 100)\n",
        "train = train[train['age']>0].copy().append(df_age01)\n",
        "train.loc[train['dataset']=='GSE59157','age']= train.loc[train['dataset']=='GSE59157','age']/12\n",
        "\n",
        "#infile = open('/content/drive/MyDrive/Aging/TestDatasetI17.pkl','rb')\n",
        "infile = open('/content/drive/MyDrive/Aging/TestDatasetI530.pkl','rb')\n",
        "\n",
        "DNAm_data= pickle.load(infile)\n",
        "#DNAm_data = DNAm_data[DNAm_data['age']<100]\n",
        "test = DNAm_data.copy()\n",
        "df_age0 = test[test['age']<=0].copy()\n",
        "df_age0 = df_age0.sample(n = 40)\n",
        "test = test[test['age']>0].copy().append(df_age0)\n",
        "test.loc[test['dataset']=='GSE59157','age']= test.loc[test['dataset']=='GSE59157','age']/12\n",
        "test, val_data = train_test_split(test, test_size=0.10)"
      ],
      "metadata": {
        "id": "c_WKO6khP9OI"
      },
      "execution_count": null,
      "outputs": []
    },
    {
      "cell_type": "code",
      "source": [
        "# May 16, 2022\n",
        "\n",
        "infile = open('/content/drive/MyDrive/Aging/TrainDatasetI17.pkl','rb')\n",
        "DNAm_data_train= pickle.load(infile)\n",
        "DNAm_data_train = DNAm_data_train[DNAm_data_train['age']<100]\n",
        "train = DNAm_data_train.copy()\n",
        "\n",
        "infile = open('/content/drive/MyDrive/Aging/TestDatasetI17.pkl','rb')\n",
        "DNAm_data= pickle.load(infile)\n",
        "DNAm_data = DNAm_data[DNAm_data['age']<100]\n",
        "test = DNAm_data.copy()\n",
        "#test, val_data = train_test_split(test, test_size=0.10)"
      ],
      "metadata": {
        "id": "TXkypryB3AHr"
      },
      "execution_count": null,
      "outputs": []
    },
    {
      "cell_type": "code",
      "source": [
        "# Scaled data \n",
        "# May 17, 2022\n",
        "X_train = train.iloc[:,3:].to_numpy()\n",
        "transformer = RobustScaler().fit(X_train)\n",
        "X_train = transformer.transform(X_train)\n",
        "\n",
        "X_test = test.iloc[:,3:].to_numpy()\n",
        "transformer = RobustScaler().fit(X_test)\n",
        "X_test = transformer.transform(X_test)\n",
        "\n",
        "y_train = train['age'].astype('float')\n",
        "y_test = test['age'].astype('float')"
      ],
      "metadata": {
        "id": "obfzuXbL_MR-"
      },
      "execution_count": null,
      "outputs": []
    },
    {
      "cell_type": "code",
      "source": [],
      "metadata": {
        "id": "ymxs5B0R6WUB"
      },
      "execution_count": null,
      "outputs": []
    },
    {
      "cell_type": "code",
      "source": [
        "def weight_scalling_factor(clients_trn_data, client_name):\n",
        "    client_names = list(clients_trn_data.keys())\n",
        "    #get the bs\n",
        "    bs = list(clients_trn_data[client_name])[0][0].shape[0]\n",
        "\n",
        "    #first calculate the total training data points across clinets\n",
        "    global_count = sum([tf.data.experimental.cardinality(clients_trn_data[client_name]).numpy() for client_name in client_names])*bs\n",
        "    # get the total number of data points held by a client\n",
        "    local_count = tf.data.experimental.cardinality(clients_trn_data[client_name]).numpy()*bs\n",
        "    #print(local_count)\n",
        "    return local_count/global_count\n",
        "\n",
        "\n",
        "def scale_model_weights(weight, scalar):\n",
        "    '''function for scaling a models weights'''\n",
        "    weight_final = []\n",
        "    steps = len(weight)\n",
        "    #print(steps)\n",
        "    for i in range(steps):\n",
        "        weight_final.append(scalar * weight[i])\n",
        "    return weight_final\n",
        "\n",
        "\n",
        "\n",
        "def sum_scaled_weights(scaled_weight_list):\n",
        "    '''Return the sum of the listed scaled weights. The is equivalent to scaled avg of the weights'''\n",
        "    avg_grad = list()\n",
        "    #get the average grad accross all client gradients\n",
        "    for grad_list_tuple in zip(*scaled_weight_list):\n",
        "        layer_mean = tf.math.reduce_sum(grad_list_tuple, axis=0)\n",
        "        avg_grad.append(layer_mean)\n",
        "        \n",
        "    return avg_grad\n",
        "\n",
        "\n"
      ],
      "metadata": {
        "id": "6e16-rrHHL-I"
      },
      "execution_count": null,
      "outputs": []
    },
    {
      "cell_type": "code",
      "source": [],
      "metadata": {
        "id": "8J9Fzb2mvvhM"
      },
      "execution_count": null,
      "outputs": []
    },
    {
      "cell_type": "code",
      "source": [
        "X_train, X_test, y_train, y_test = train_test_split(DNAm_X, \n",
        "                                                    DNAm_age, \n",
        "                                                    test_size=0.3, \n",
        "                                                    random_state=42)\n",
        "\n",
        "X_train = list(X_train.to_numpy())\n",
        "y_train = list(y_train.to_numpy())\n",
        "X_test = list(X_test.to_numpy())\n",
        "y_test = list(y_test.to_numpy())"
      ],
      "metadata": {
        "id": "DMDtalZnvviQ"
      },
      "execution_count": null,
      "outputs": []
    },
    {
      "cell_type": "code",
      "source": [
        "def create_clients(image_list, label_list, num_clients=10, initial='clients'):\n",
        "    ''' return: a dictionary with keys clients' names and value as \n",
        "                data shards - tuple of images and label lists.\n",
        "        args: \n",
        "            image_list: a list of numpy arrays of training images\n",
        "            label_list:a list of binarized labels for each image\n",
        "            num_client: number of fedrated members (clients)\n",
        "            initials: the clients'name prefix, e.g, clients_1 \n",
        "            \n",
        "    '''\n",
        "\n",
        "    #create a list of client names\n",
        "    client_names = ['{}_{}'.format(initial, i+1) for i in range(num_clients)]\n",
        "\n",
        "    #randomize the data\n",
        "    data = list(zip(image_list, label_list))\n",
        "    random.shuffle(data)\n",
        "\n",
        "    #shard data and place at each client\n",
        "    size = len(data)//num_clients\n",
        "    shards = [data[i:i + size] for i in range(0, size*num_clients, size)]\n",
        "\n",
        "    #number of clients must equal number of shards\n",
        "    assert(len(shards) == len(client_names))\n",
        "\n",
        "    return {client_names[i] : shards[i] for i in range(len(client_names))} \n"
      ],
      "metadata": {
        "id": "jcGXeXTxlcIX"
      },
      "execution_count": null,
      "outputs": []
    },
    {
      "cell_type": "code",
      "source": [
        "#create clients\n",
        "clients = create_clients(X_train, y_train, num_clients=10, initial='client')"
      ],
      "metadata": {
        "id": "YI-ekA_DwZKZ"
      },
      "execution_count": null,
      "outputs": []
    },
    {
      "cell_type": "code",
      "source": [],
      "metadata": {
        "id": "1qRaIcNZIOpY"
      },
      "execution_count": null,
      "outputs": []
    },
    {
      "cell_type": "code",
      "source": [
        "def batch_data(data_shard, bs=32):\n",
        "    '''Takes in a clients data shard and create a tfds object off it\n",
        "    args:\n",
        "        shard: a data, label constituting a client's data shard\n",
        "        bs:batch size\n",
        "    return:\n",
        "        tfds object'''\n",
        "    #seperate shard into data and labels lists\n",
        "    data, label = zip(*data_shard)\n",
        "    dataset = tf.data.Dataset.from_tensor_slices((list(data), list(label)))\n",
        "    return dataset.shuffle(len(label)).batch(bs)"
      ],
      "metadata": {
        "id": "G1vlc7rDwcoQ"
      },
      "execution_count": null,
      "outputs": []
    },
    {
      "cell_type": "code",
      "source": [
        "#process and batch the training data for each client\n",
        "clients_batched = dict()\n",
        "for (client_name, data) in clients.items():\n",
        "    clients_batched[client_name] = batch_data(data)\n",
        "    \n",
        "#process and batch the test set  \n",
        "test_batched = tf.data.Dataset.from_tensor_slices((X_test, y_test)).batch(len(y_test))\n"
      ],
      "metadata": {
        "id": "tIJV_RtiwZOb"
      },
      "execution_count": null,
      "outputs": []
    },
    {
      "cell_type": "code",
      "source": [
        "class SimpleMLP:\n",
        "    @staticmethod\n",
        "    def build(shape):\n",
        "        model = Sequential()\n",
        "        model.add(Dense(32, input_shape=(shape,)))\n",
        "        model.add(BatchNormalization())\n",
        "        model.add(Activation('LeakyReLU'))\n",
        "        model.add(Dense(32))\n",
        "        model.add(BatchNormalization())\n",
        "        model.add(Activation('LeakyReLU'))\n",
        "        model.add(Dense(32))\n",
        "        model.add(BatchNormalization())\n",
        "        model.add(Activation('LeakyReLU'))\n",
        "        model.add(Dense(32))\n",
        "        model.add(BatchNormalization())\n",
        "        model.add(Activation('LeakyReLU'))\n",
        "        model.add(Dense(32))\n",
        "        model.add(BatchNormalization())\n",
        "        model.add(Activation('LeakyReLU'))\n",
        "        model.add(Dense(1))\n",
        "\n",
        "        return model"
      ],
      "metadata": {
        "id": "_xuPbns6Isye"
      },
      "execution_count": null,
      "outputs": []
    },
    {
      "cell_type": "code",
      "source": [
        "class SimpleMLP:\n",
        "    @staticmethod\n",
        "    def build(shape):\n",
        "        model = Sequential()\n",
        "        model.add(Dense(128, input_shape=(shape,)))\n",
        "        model.add(BatchNormalization())\n",
        "        model.add(Activation('LeakyReLU'))\n",
        "        model.add(Dense(128))\n",
        "        model.add(BatchNormalization())\n",
        "        model.add(Activation('LeakyReLU'))\n",
        "        model.add(Dense(64))\n",
        "        model.add(BatchNormalization())\n",
        "        model.add(Activation('LeakyReLU'))\n",
        "        model.add(Dense(64))\n",
        "        model.add(BatchNormalization())\n",
        "        model.add(Activation('LeakyReLU'))\n",
        "        model.add(Dense(32))\n",
        "        model.add(BatchNormalization())\n",
        "        model.add(Activation('LeakyReLU'))\n",
        "        model.add(Dense(1))\n",
        "\n",
        "        return model"
      ],
      "metadata": {
        "id": "BbxFQxHR3nDh"
      },
      "execution_count": null,
      "outputs": []
    },
    {
      "cell_type": "code",
      "source": [
        "\n",
        "def test_model(X_test, Y_test,  model, comm_round):\n",
        "    cce = tf.keras.losses.MeanAbsoluteError()\n",
        "    pred1 = model.predict(X_test).flatten()\n",
        "    loss11 = cce(Y_test, pred1)\n",
        "    #print(X_test)\n",
        "    #print(loss11)\n",
        "    cce2 = tf.keras.losses.MeanSquaredError()\n",
        "    loss22 = cce2(Y_test, pred1)\n",
        "    meae = median_absolute_error(Y_test, pred1)\n",
        "    #acc = accuracy_score(tf.argmax(logits, axis=1), tf.argmax(Y_test, axis=1))\n",
        "    print('comm_round: {} | MedianAE: {:.3} | MAE: {:.3} | MSE: {:.3}'.format(comm_round,  meae, loss11,loss22))\n",
        "    return loss11,loss22\n"
      ],
      "metadata": {
        "id": "ZDCi8zxLMjO0"
      },
      "execution_count": null,
      "outputs": []
    },
    {
      "cell_type": "code",
      "source": [
        "cce = tf.keras.losses.MeanAbsoluteError()\n",
        "pred1 = global_model.predict(X_test).flatten()\n",
        "#pred1 = pred1.numpy()\n",
        "loss11 = cce(Y_test, pred1)\n",
        "#print(X_test)\n",
        "#print(loss11)\n",
        "cce2 = tf.keras.losses.MeanSquaredError()\n",
        "loss22 = cce2(Y_test, pred1)\n",
        "#acc = accuracy_score(tf.argmax(logits, axis=1), tf.argmax(Y_test, axis=1))\n",
        "print('comm_round: {} | MAE: {:.3%} | MSE: {}'.format(comm_round,  loss11,loss22))"
      ],
      "metadata": {
        "colab": {
          "base_uri": "https://localhost:8080/"
        },
        "id": "hZ-RkiShIL6M",
        "outputId": "43d5ff48-2524-4934-fe33-0336fe478b40"
      },
      "execution_count": null,
      "outputs": [
        {
          "output_type": "stream",
          "name": "stdout",
          "text": [
            "comm_round: 49 | MAE: 466.637% | MSE: 44.436431884765625\n"
          ]
        }
      ]
    },
    {
      "cell_type": "code",
      "source": [],
      "metadata": {
        "id": "1oUHQBObXZfT"
      },
      "execution_count": null,
      "outputs": []
    },
    {
      "cell_type": "markdown",
      "source": [
        "# Centralized Data \n",
        "# June 1st, 2022"
      ],
      "metadata": {
        "id": "3PvJON93XZ47"
      }
    },
    {
      "cell_type": "code",
      "source": [
        "# Centralized data\n",
        "# May 17, 2022\n",
        "\n",
        "X_train = train.iloc[:,3:].to_numpy()\n",
        "transformer = RobustScaler().fit(X_train)\n",
        "X_train = transformer.transform(X_train)\n",
        "\n",
        "X_test = test.iloc[:,3:].to_numpy()\n",
        "transformer = RobustScaler().fit(X_test)\n",
        "X_test = transformer.transform(X_test)\n",
        "\n",
        "y_train = train['age'].astype('float')\n",
        "y_test = test['age'].astype('float')"
      ],
      "metadata": {
        "id": "srr-cL74fmO4"
      },
      "execution_count": null,
      "outputs": []
    },
    {
      "cell_type": "code",
      "source": [
        "# MLP traing and testing, Centralized data\n",
        "# May 13rd, 2022\n",
        "# Part I\n",
        "smlp_global = SimpleMLP()\n",
        "model = smlp_global.build(feature_size)\n",
        "model.compile(optimizer=\"Adam\", loss=\"mse\", metrics=[\"mae\"])\n",
        "model.fit(X_train, y_train, epochs = 200, verbose = 0)\n"
      ],
      "metadata": {
        "id": "suS76ObZoR9X",
        "colab": {
          "base_uri": "https://localhost:8080/"
        },
        "outputId": "e1929508-cdf5-4ebd-d540-a9cdbc3ef016"
      },
      "execution_count": null,
      "outputs": [
        {
          "output_type": "execute_result",
          "data": {
            "text/plain": [
              "<keras.callbacks.History at 0x7f3770f88890>"
            ]
          },
          "metadata": {},
          "execution_count": 28
        }
      ]
    },
    {
      "cell_type": "code",
      "source": [
        "# MLP traing and testing, Centralized data\n",
        "# May 13rd, 2022\n",
        "# Part II\n",
        "\n",
        "cce = tf.keras.losses.MeanAbsoluteError()\n",
        "pred1 = model.predict(X_test).flatten()\n",
        "loss11 = cce(y_test, pred1)\n",
        "cce2 = tf.keras.losses.MeanSquaredError()\n",
        "loss22 = cce2(y_test, pred1)\n",
        "meae = median_absolute_error(y_test, pred1)\n",
        "#acc = accuracy_score(tf.argmax(logits, axis=1), tf.argmax(Y_test, axis=1))\n",
        "print('MedianAE: {:.3} | MAE: {:.3} | MSE: {:.3}'.format( meae, loss11,loss22))\n"
      ],
      "metadata": {
        "colab": {
          "base_uri": "https://localhost:8080/"
        },
        "id": "JStyvQEb6sCr",
        "outputId": "e33e79d4-b24f-49df-eb29-98ef874d311b"
      },
      "execution_count": null,
      "outputs": [
        {
          "output_type": "stream",
          "name": "stdout",
          "text": [
            "MedianAE: 2.41 | MAE: 3.9 | MSE: 39.6\n"
          ]
        }
      ]
    },
    {
      "cell_type": "code",
      "source": [
        "lr = 0.001 \n",
        "comms_round = 50\n",
        "loss='mean_squared_error'\n",
        "metrics=[tf.keras.metrics.MeanAbsoluteError()]\n",
        "optimizer = tf.keras.optimizers.Adam(learning_rate=lr, decay = lr/comms_round)\n",
        "#optimizer = SGD(learning_rate=lr, decay=lr / comms_round, momentum=0.9)  \n"
      ],
      "metadata": {
        "id": "STlAiPg2wmLQ"
      },
      "execution_count": null,
      "outputs": []
    },
    {
      "cell_type": "code",
      "source": [
        "smlp_global = SimpleMLP()\n",
        "global_model = smlp_global.build(feature_size)\n"
      ],
      "metadata": {
        "id": "s93MRw_uEKil"
      },
      "execution_count": null,
      "outputs": []
    },
    {
      "cell_type": "code",
      "source": [
        "#initialize global model\n",
        "        \n",
        "#commence global training loop\n",
        "for comm_round in range(comms_round):\n",
        "            \n",
        "    # get the global model's weights - will serve as the initial weights for all local models\n",
        "    global_weights = global_model.get_weights()\n",
        "    \n",
        "    #initial list to collect local model weights after scalling\n",
        "    scaled_local_weight_list = list()\n",
        "\n",
        "    #randomize client data - using keys\n",
        "    client_names= list(clients_batched.keys())\n",
        "    random.shuffle(client_names)\n",
        "    \n",
        "    #loop through each client and create new local model\n",
        "    for client in client_names:\n",
        "        smlp_local = SimpleMLP()\n",
        "        local_model = smlp_local.build(feature_size)\n",
        "        #local_model.compile(loss=loss, \n",
        "        #              optimizer=optimizer, \n",
        "        #              metrics=metrics)\n",
        "        local_model.compile(optimizer=\"Adam\", loss=\"mse\", metrics=[\"mae\"])\n",
        "        #set local model weight to the weight of the global model\n",
        "        local_model.set_weights(global_weights)\n",
        "        \n",
        "        #fit local model with client's data\n",
        "        local_model.fit(clients_batched[client], epochs=3, verbose=0)\n",
        "        \n",
        "        #scale the model weights and add to list\n",
        "        scaling_factor = weight_scalling_factor(clients_batched, client)\n",
        "        scaled_weights = scale_model_weights(local_model.get_weights(), scaling_factor)\n",
        "        scaled_local_weight_list.append(scaled_weights)\n",
        "        \n",
        "        #clear session to free memory after each communication round\n",
        "        K.clear_session()\n",
        "        \n",
        "    #to get the average over all the local model, we simply take the sum of the scaled weights\n",
        "    average_weights = sum_scaled_weights(scaled_local_weight_list)\n",
        "    \n",
        "    #update global model \n",
        "    global_model.set_weights(average_weights)\n",
        "\n",
        "    #test global model and print out metrics after each communications round\n",
        "    for(X_test, Y_test) in test_batched:\n",
        "        global_MAE, global_MSE = test_model(X_test, Y_test, global_model, comm_round)\n"
      ],
      "metadata": {
        "colab": {
          "base_uri": "https://localhost:8080/"
        },
        "id": "YH-nw7GHwmcT",
        "outputId": "c7c1f77a-0fc0-4759-ce52-e51dca1bb446"
      },
      "execution_count": null,
      "outputs": [
        {
          "output_type": "stream",
          "name": "stdout",
          "text": [
            "comm_round: 0 | MedianAE: 3.49 | MAE: 4.73 | MSE: 45.5\n",
            "comm_round: 1 | MedianAE: 3.38 | MAE: 4.6 | MSE: 43.0\n",
            "comm_round: 2 | MedianAE: 3.35 | MAE: 4.62 | MSE: 44.2\n",
            "comm_round: 3 | MedianAE: 3.47 | MAE: 4.75 | MSE: 46.7\n",
            "comm_round: 4 | MedianAE: 3.28 | MAE: 4.54 | MSE: 43.5\n",
            "comm_round: 5 | MedianAE: 3.52 | MAE: 4.76 | MSE: 46.4\n",
            "comm_round: 6 | MedianAE: 3.45 | MAE: 4.65 | MSE: 45.0\n",
            "comm_round: 7 | MedianAE: 3.4 | MAE: 4.6 | MSE: 43.5\n",
            "comm_round: 8 | MedianAE: 3.38 | MAE: 4.64 | MSE: 45.4\n",
            "comm_round: 9 | MedianAE: 3.49 | MAE: 4.7 | MSE: 44.1\n",
            "comm_round: 10 | MedianAE: 3.41 | MAE: 4.59 | MSE: 42.5\n",
            "comm_round: 11 | MedianAE: 3.32 | MAE: 4.52 | MSE: 41.9\n",
            "comm_round: 12 | MedianAE: 3.47 | MAE: 4.65 | MSE: 43.4\n",
            "comm_round: 13 | MedianAE: 3.16 | MAE: 4.42 | MSE: 41.4\n",
            "comm_round: 14 | MedianAE: 3.28 | MAE: 4.49 | MSE: 42.0\n",
            "comm_round: 15 | MedianAE: 3.39 | MAE: 4.59 | MSE: 42.5\n",
            "comm_round: 16 | MedianAE: 3.24 | MAE: 4.45 | MSE: 42.2\n",
            "comm_round: 17 | MedianAE: 3.27 | MAE: 4.49 | MSE: 42.5\n",
            "comm_round: 18 | MedianAE: 3.23 | MAE: 4.44 | MSE: 41.3\n",
            "comm_round: 19 | MedianAE: 3.2 | MAE: 4.47 | MSE: 42.2\n",
            "comm_round: 20 | MedianAE: 3.13 | MAE: 4.39 | MSE: 41.1\n",
            "comm_round: 21 | MedianAE: 3.43 | MAE: 4.62 | MSE: 44.0\n",
            "comm_round: 22 | MedianAE: 3.31 | MAE: 4.51 | MSE: 43.3\n",
            "comm_round: 23 | MedianAE: 3.33 | MAE: 4.58 | MSE: 44.3\n",
            "comm_round: 24 | MedianAE: 3.21 | MAE: 4.44 | MSE: 41.1\n",
            "comm_round: 25 | MedianAE: 3.15 | MAE: 4.42 | MSE: 42.5\n",
            "comm_round: 26 | MedianAE: 3.2 | MAE: 4.42 | MSE: 41.3\n",
            "comm_round: 27 | MedianAE: 3.25 | MAE: 4.44 | MSE: 41.5\n",
            "comm_round: 28 | MedianAE: 3.38 | MAE: 4.68 | MSE: 46.9\n",
            "comm_round: 29 | MedianAE: 3.25 | MAE: 4.46 | MSE: 41.9\n",
            "comm_round: 30 | MedianAE: 3.24 | MAE: 4.46 | MSE: 41.6\n",
            "comm_round: 31 | MedianAE: 3.4 | MAE: 4.56 | MSE: 42.0\n",
            "comm_round: 32 | MedianAE: 3.23 | MAE: 4.47 | MSE: 43.0\n",
            "comm_round: 33 | MedianAE: 3.32 | MAE: 4.54 | MSE: 43.5\n",
            "comm_round: 34 | MedianAE: 3.2 | MAE: 4.45 | MSE: 42.6\n",
            "comm_round: 35 | MedianAE: 3.44 | MAE: 4.62 | MSE: 43.8\n",
            "comm_round: 36 | MedianAE: 3.27 | MAE: 4.55 | MSE: 44.3\n",
            "comm_round: 37 | MedianAE: 3.21 | MAE: 4.46 | MSE: 43.0\n",
            "comm_round: 38 | MedianAE: 3.22 | MAE: 4.47 | MSE: 43.5\n",
            "comm_round: 39 | MedianAE: 3.19 | MAE: 4.46 | MSE: 45.0\n",
            "comm_round: 40 | MedianAE: 3.34 | MAE: 4.58 | MSE: 46.9\n",
            "comm_round: 41 | MedianAE: 3.26 | MAE: 4.47 | MSE: 43.5\n",
            "comm_round: 42 | MedianAE: 3.25 | MAE: 4.51 | MSE: 42.5\n",
            "comm_round: 43 | MedianAE: 3.22 | MAE: 4.49 | MSE: 42.7\n",
            "comm_round: 44 | MedianAE: 3.29 | MAE: 4.54 | MSE: 43.4\n",
            "comm_round: 45 | MedianAE: 3.2 | MAE: 4.45 | MSE: 41.4\n",
            "comm_round: 46 | MedianAE: 3.18 | MAE: 4.45 | MSE: 43.3\n",
            "comm_round: 47 | MedianAE: 3.31 | MAE: 4.55 | MSE: 42.7\n",
            "comm_round: 48 | MedianAE: 3.23 | MAE: 4.46 | MSE: 43.4\n",
            "comm_round: 49 | MedianAE: 3.21 | MAE: 4.5 | MSE: 42.8\n"
          ]
        }
      ]
    },
    {
      "cell_type": "code",
      "source": [],
      "metadata": {
        "id": "HnJdxLbzVAgB"
      },
      "execution_count": null,
      "outputs": []
    }
  ]
}