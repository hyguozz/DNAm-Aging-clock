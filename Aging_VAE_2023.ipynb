{
  "cells": [
    {
      "cell_type": "markdown",
      "metadata": {
        "id": "view-in-github",
        "colab_type": "text"
      },
      "source": [
        "<a href=\"https://colab.research.google.com/github/hyguozz/DNAm-Aging-clock/blob/main/Aging_VAE_2023.ipynb\" target=\"_parent\"><img src=\"https://colab.research.google.com/assets/colab-badge.svg\" alt=\"Open In Colab\"/></a>"
      ]
    },
    {
      "cell_type": "code",
      "execution_count": null,
      "metadata": {
        "colab": {
          "base_uri": "https://localhost:8080/"
        },
        "id": "QSf-8LsIZ-U2",
        "outputId": "85c2d422-f6df-4f4e-e27e-5e2ae372dd63"
      },
      "outputs": [
        {
          "name": "stdout",
          "output_type": "stream",
          "text": [
            "Mounted at /content/drive/\n"
          ]
        }
      ],
      "source": [
        "from google.colab import drive\n",
        "drive.mount(\"/content/drive/\")"
      ]
    },
    {
      "cell_type": "code",
      "execution_count": null,
      "metadata": {
        "colab": {
          "base_uri": "https://localhost:8080/"
        },
        "id": "K10mKMfNIPOi",
        "outputId": "b909371d-2bbb-4536-d5a9-161f7ff44cc8"
      },
      "outputs": [
        {
          "name": "stdout",
          "output_type": "stream",
          "text": [
            "Found GPU at: /device:GPU:0\n"
          ]
        }
      ],
      "source": [
        "\n",
        "%tensorflow_version 2.x\n",
        "import tensorflow as tf\n",
        "device_name = tf.test.gpu_device_name()\n",
        "if device_name != '/device:GPU:0':\n",
        "  raise SystemError('GPU device not found')\n",
        "print('Found GPU at: {}'.format(device_name))\n",
        "%tensorflow_version 2.x\n",
        "import tensorflow as tf\n",
        "import time\n",
        "import numpy as np"
      ]
    },
    {
      "cell_type": "code",
      "execution_count": null,
      "metadata": {
        "colab": {
          "base_uri": "https://localhost:8080/"
        },
        "id": "XCm5-a7bc3JA",
        "outputId": "c126aea7-9af4-47b6-d083-7535b1bd0444"
      },
      "outputs": [
        {
          "name": "stdout",
          "output_type": "stream",
          "text": [
            "Looking in indexes: https://pypi.org/simple, https://us-python.pkg.dev/colab-wheels/public/simple/\n",
            "Collecting pickle5\n",
            "  Downloading pickle5-0.0.12-cp37-cp37m-manylinux_2_5_x86_64.manylinux1_x86_64.whl (256 kB)\n",
            "\u001b[K     |████████████████████████████████| 256 kB 9.1 MB/s \n",
            "\u001b[?25hInstalling collected packages: pickle5\n",
            "Successfully installed pickle5-0.0.12\n"
          ]
        }
      ],
      "source": [
        "!pip3 install pickle5\n",
        "import pickle5 as pickle"
      ]
    },
    {
      "cell_type": "code",
      "execution_count": null,
      "metadata": {
        "id": "8AJp_jwbb-Yd"
      },
      "outputs": [],
      "source": [
        "import numpy as np\n",
        "\n",
        "import torch\n",
        "import torch.nn as nn\n",
        "import torchvision.transforms as transforms\n",
        "import torch.optim as optim\n",
        "import torch.nn.functional as F\n",
        "import torch.utils.data.sampler as sampler\n",
        "from sklearn.impute import KNNImputer\n",
        "import numpy as np\n",
        "import os\n",
        "import pandas as pd\n",
        "from sklearn.impute import KNNImputer\n",
        "from sklearn.model_selection import train_test_split\n",
        "from sklearn.model_selection import StratifiedShuffleSplit\n"
      ]
    },
    {
      "cell_type": "code",
      "execution_count": null,
      "metadata": {
        "colab": {
          "base_uri": "https://localhost:8080/"
        },
        "id": "ah93cLdC5GWN",
        "outputId": "a6064c48-3666-434c-f500-7ebdbcfb3713"
      },
      "outputs": [
        {
          "name": "stdout",
          "output_type": "stream",
          "text": [
            "Looking in indexes: https://pypi.org/simple, https://us-python.pkg.dev/colab-wheels/public/simple/\n",
            "Collecting shap\n",
            "  Downloading shap-0.40.0-cp37-cp37m-manylinux2010_x86_64.whl (564 kB)\n",
            "\u001b[K     |████████████████████████████████| 564 kB 7.8 MB/s \n",
            "\u001b[?25hRequirement already satisfied: cloudpickle in /usr/local/lib/python3.7/dist-packages (from shap) (1.3.0)\n",
            "Collecting slicer==0.0.7\n",
            "  Downloading slicer-0.0.7-py3-none-any.whl (14 kB)\n",
            "Requirement already satisfied: scipy in /usr/local/lib/python3.7/dist-packages (from shap) (1.4.1)\n",
            "Requirement already satisfied: numba in /usr/local/lib/python3.7/dist-packages (from shap) (0.51.2)\n",
            "Requirement already satisfied: packaging>20.9 in /usr/local/lib/python3.7/dist-packages (from shap) (21.3)\n",
            "Requirement already satisfied: pandas in /usr/local/lib/python3.7/dist-packages (from shap) (1.3.5)\n",
            "Requirement already satisfied: tqdm>4.25.0 in /usr/local/lib/python3.7/dist-packages (from shap) (4.64.0)\n",
            "Requirement already satisfied: numpy in /usr/local/lib/python3.7/dist-packages (from shap) (1.21.6)\n",
            "Requirement already satisfied: scikit-learn in /usr/local/lib/python3.7/dist-packages (from shap) (1.0.2)\n",
            "Requirement already satisfied: pyparsing!=3.0.5,>=2.0.2 in /usr/local/lib/python3.7/dist-packages (from packaging>20.9->shap) (3.0.9)\n",
            "Requirement already satisfied: llvmlite<0.35,>=0.34.0.dev0 in /usr/local/lib/python3.7/dist-packages (from numba->shap) (0.34.0)\n",
            "Requirement already satisfied: setuptools in /usr/local/lib/python3.7/dist-packages (from numba->shap) (57.4.0)\n",
            "Requirement already satisfied: python-dateutil>=2.7.3 in /usr/local/lib/python3.7/dist-packages (from pandas->shap) (2.8.2)\n",
            "Requirement already satisfied: pytz>=2017.3 in /usr/local/lib/python3.7/dist-packages (from pandas->shap) (2022.1)\n",
            "Requirement already satisfied: six>=1.5 in /usr/local/lib/python3.7/dist-packages (from python-dateutil>=2.7.3->pandas->shap) (1.15.0)\n",
            "Requirement already satisfied: threadpoolctl>=2.0.0 in /usr/local/lib/python3.7/dist-packages (from scikit-learn->shap) (3.1.0)\n",
            "Requirement already satisfied: joblib>=0.11 in /usr/local/lib/python3.7/dist-packages (from scikit-learn->shap) (1.1.0)\n",
            "Installing collected packages: slicer, shap\n",
            "Successfully installed shap-0.40.0 slicer-0.0.7\n"
          ]
        }
      ],
      "source": [
        "pip install shap"
      ]
    },
    {
      "cell_type": "code",
      "execution_count": null,
      "metadata": {
        "id": "mivxOzgvU5lE"
      },
      "outputs": [],
      "source": [
        "import shap"
      ]
    },
    {
      "cell_type": "code",
      "execution_count": null,
      "metadata": {
        "id": "N4GUA6BKNlmM"
      },
      "outputs": [],
      "source": []
    },
    {
      "cell_type": "code",
      "execution_count": null,
      "metadata": {
        "colab": {
          "base_uri": "https://localhost:8080/",
          "height": 35
        },
        "id": "_xUvitzMnILM",
        "outputId": "0d5182ae-f5bf-435d-9367-137ff662b0ab"
      },
      "outputs": [
        {
          "data": {
            "application/vnd.google.colaboratory.intrinsic+json": {
              "type": "string"
            },
            "text/plain": [
              "'/content'"
            ]
          },
          "execution_count": 7,
          "metadata": {},
          "output_type": "execute_result"
        }
      ],
      "source": [
        "pwd"
      ]
    },
    {
      "cell_type": "code",
      "execution_count": null,
      "metadata": {
        "colab": {
          "base_uri": "https://localhost:8080/"
        },
        "id": "OdUFbShXcHg8",
        "outputId": "054ddafa-2c5d-45e9-b8e0-db7a9084e653"
      },
      "outputs": [
        {
          "name": "stdout",
          "output_type": "stream",
          "text": [
            "/content/drive/MyDrive/Aging/data\n"
          ]
        }
      ],
      "source": [
        "cd /content/drive/MyDrive/Aging/data/"
      ]
    },
    {
      "cell_type": "code",
      "execution_count": null,
      "metadata": {
        "id": "7qehXezS8Fvs"
      },
      "outputs": [],
      "source": [
        "# May 30, 2022\n",
        "# Good\n",
        "#infile = open('/content/drive/MyDrive/Aging/TrainDatasetI17.pkl','rb')\n",
        "infile = open('/content/drive/MyDrive/Aging/TrainDatasetI530.pkl','rb')\n",
        "DNAm_data_train= pickle.load(infile)\n",
        "#DNAm_data_train = DNAm_data_train[DNAm_data_train['age']<100]\n",
        "train = DNAm_data_train.copy()\n",
        "df_age01 = train[train['age']<=0].copy()\n",
        "df_age01 = df_age01.sample(n = 100)\n",
        "train = train[train['age']>0].copy().append(df_age01)\n",
        "train.loc[train['dataset']=='GSE59157','age']= train.loc[train['dataset']=='GSE59157','age']/12\n",
        "\n",
        "#infile = open('/content/drive/MyDrive/Aging/TestDatasetI17.pkl','rb')\n",
        "infile = open('/content/drive/MyDrive/Aging/TestDatasetI530.pkl','rb')\n",
        "DNAm_data= pickle.load(infile)\n",
        "#DNAm_data = DNAm_data[DNAm_data['age']<100]\n",
        "test = DNAm_data.copy()\n",
        "df_age0 = test[test['age']<=0].copy()\n",
        "df_age0 = df_age0.sample(n = 40)\n",
        "test = test[test['age']>0].copy().append(df_age0)\n",
        "test.loc[test['dataset']=='GSE59157','age']= test.loc[test['dataset']=='GSE59157','age']/12\n",
        "test, val_data = train_test_split(test, test_size=0.10)"
      ]
    },
    {
      "cell_type": "code",
      "execution_count": null,
      "metadata": {
        "colab": {
          "base_uri": "https://localhost:8080/"
        },
        "id": "LWvm7DrO8wFB",
        "outputId": "87901636-e094-4501-dc9e-72af444e537f"
      },
      "outputs": [
        {
          "data": {
            "text/plain": [
              "((6467, 8680), (2547, 8680))"
            ]
          },
          "execution_count": 9,
          "metadata": {},
          "output_type": "execute_result"
        }
      ],
      "source": [
        "train.shape, test.shape"
      ]
    },
    {
      "cell_type": "code",
      "execution_count": null,
      "metadata": {
        "id": "9hFc0f7PaeK3"
      },
      "outputs": [],
      "source": [
        "\n",
        "Max_age = train.age.max()\n",
        "Mage = np.log(Max_age+1)"
      ]
    },
    {
      "cell_type": "code",
      "execution_count": null,
      "metadata": {
        "colab": {
          "base_uri": "https://localhost:8080/",
          "height": 299
        },
        "id": "_hOxPyf20xi9",
        "outputId": "bdb58491-5b8a-4acd-8908-b8440bcf4001"
      },
      "outputs": [
        {
          "data": {
            "image/png": "[encoded data removed]",
            "text/plain": [
              "<Figure size 432x288 with 1 Axes>"
            ]
          },
          "metadata": {},
          "output_type": "display_data"
        }
      ],
      "source": [
        "import random\n",
        "import numpy\n",
        "\n",
        "import matplotlib.pyplot as plt\n",
        "\n",
        "x = train['age'].to_numpy()\n",
        "y = test['age'].to_numpy()\n",
        "\n",
        "bins = numpy.linspace(-1, 115, 12)\n",
        "\n",
        "plt.hist(x, bins, alpha=0.5, label='Training')\n",
        "plt.hist(y, bins, alpha=0.5, label='Testing')\n",
        "plt.legend(loc='upper right')\n",
        "plt.title('Age Distribution')\n",
        "plt.xlabel('Age')\n",
        "plt.ylabel('Number of Sampels')\n",
        "plt.savefig('HistTestTrain_Used_17.png', dpi = 300)\n",
        "plt.show()\n"
      ]
    },
    {
      "cell_type": "code",
      "execution_count": null,
      "metadata": {
        "colab": {
          "base_uri": "https://localhost:8080/"
        },
        "id": "_nPrrkcOfj9T",
        "outputId": "ae74b7e9-a837-44b0-e230-4a1546e56377"
      },
      "outputs": [
        {
          "data": {
            "text/plain": [
              "((3008, 6699), (335, 6699))"
            ]
          },
          "execution_count": 97,
          "metadata": {},
          "output_type": "execute_result"
        }
      ],
      "source": [
        "test.shape, val_data.shape"
      ]
    },
    {
      "cell_type": "code",
      "execution_count": null,
      "metadata": {
        "id": "hH4LwylrWw0J"
      },
      "outputs": [],
      "source": [
        "from sklearn.preprocessing import RobustScaler\n",
        "transformer = RobustScaler().fit(DNAm_X)\n",
        "DNAm_X = transformer.transform(DNAm_X)"
      ]
    },
    {
      "cell_type": "code",
      "execution_count": null,
      "metadata": {
        "id": "QFZWLx58XKfs"
      },
      "outputs": [],
      "source": [
        "train, test = train_test_split(DNAm_data, test_size=0.2)"
      ]
    },
    {
      "cell_type": "code",
      "execution_count": null,
      "metadata": {
        "id": "0MFL_eApveAu"
      },
      "outputs": [],
      "source": [
        "import torch\n",
        "import torch.nn as nn\n",
        "import torch.nn.functional as F\n",
        "from torch.autograd import Variable\n",
        "\n",
        "import torchvision\n",
        "from torchvision import datasets\n",
        "from torchvision import transforms\n",
        "from torchvision.utils import save_image\n",
        "\n",
        "from IPython.display import Image\n",
        "\n",
        "import torch.optim as optim\n",
        "import argparse\n",
        "import matplotlib\n",
        "import torch.nn as nn\n",
        "import matplotlib.pyplot as plt\n",
        "import torchvision.transforms as transforms\n",
        "from tqdm import tqdm\n",
        "from torchvision import datasets\n",
        "from torch.utils.data import DataLoader\n",
        "from torchvision.utils import save_image\n",
        "matplotlib.style.use('ggplot')"
      ]
    },
    {
      "cell_type": "markdown",
      "metadata": {
        "id": "607RiJTkITsx"
      },
      "source": [
        "Now I should explain why did I choose to divide the logarithm of the age by 4.75 (on the __getitem__ method from the dataset class) and why did I apply a sigmoid to the output of the age’s head (on the model definition).\n",
        "In theory the loss function should be able to learn the weights and scale each task’s loss. But in fact, in my experiments I concluded that keeping the task specific losses kind of in the same scale helps a lot in the fitting process. So I divided the logarithm of the ages by 4.75 because that is the maximum value of the log(age). So the result from log(age)/4.75 should be a number between zero and one and then the MSE loss wouldn’t be so bigger than the other losses. I applied a sigmoid after the age’s head so that I can force my model to always output a prediction in the acceptable range."
      ]
    },
    {
      "cell_type": "markdown",
      "metadata": {
        "id": "C-OBy9M28pG8"
      },
      "source": [
        "# Part II\n",
        "# Feb. 21, 2022\n",
        "## VAE part"
      ]
    },
    {
      "cell_type": "code",
      "execution_count": null,
      "metadata": {
        "id": "yCN9VGz2x_Ze"
      },
      "outputs": [],
      "source": [
        "\n",
        "bs = 32\n",
        "epochs = 2"
      ]
    },
    {
      "cell_type": "code",
      "execution_count": null,
      "metadata": {
        "colab": {
          "base_uri": "https://localhost:8080/",
          "height": 35
        },
        "id": "ZuEBtW5Lx_hW",
        "outputId": "32f045ef-377d-413f-aca4-9e775829d3d7"
      },
      "outputs": [
        {
          "data": {
            "application/vnd.google.colaboratory.intrinsic+json": {
              "type": "string"
            },
            "text/plain": [
              "\"\\ndef save_image(x, path='real_image.png'):\\n    torchvision.utils.save_image(x, path)\\n\""
            ]
          },
          "execution_count": 33,
          "metadata": {},
          "output_type": "execute_result"
        }
      ],
      "source": [
        "def to_var(x):\n",
        "    if torch.cuda.is_available():\n",
        "        x = x.cuda()\n",
        "    return Variable(x)\n",
        "\n",
        "def flatten(x):\n",
        "    return to_var(x.view(x.size(0), -1))\n",
        "\n",
        "'''\n",
        "def save_image(x, path='real_image.png'):\n",
        "    torchvision.utils.save_image(x, path)\n",
        "'''\n",
        "\n"
      ]
    },
    {
      "cell_type": "code",
      "execution_count": null,
      "metadata": {
        "id": "TPFH_-f28oV2"
      },
      "outputs": [],
      "source": [
        "# May16\n",
        "\n",
        "train_x = torch.from_numpy(train.iloc[:,3:].values).float()\n",
        "train_y = torch.from_numpy(train['age'].astype(\"float\").values).float()\n",
        "train_dataset = torch.utils.data.TensorDataset(train_x, train_y) \n",
        "\n",
        "test_x = torch.from_numpy(test.iloc[:,3:].values).float()\n",
        "test_y = torch.from_numpy(test['age'].astype(\"float\").values).float()\n",
        "test_dataset = torch.utils.data.TensorDataset(test_x, test_y) \n",
        "\n",
        "traindata_loader  = torch.utils.data.DataLoader(\n",
        "    dataset=train_dataset,      # torch TensorDataset format\n",
        "    batch_size=bs,      # mini batch size\n",
        "    shuffle=True,\n",
        "    drop_last=True\n",
        ")\n",
        "\n",
        "testdata_loader  = torch.utils.data.DataLoader(\n",
        "    dataset=test_dataset,      # torch TensorDataset format\n",
        "    batch_size=bs,      # mini batch size\n",
        "    shuffle=True,\n",
        "    drop_last=True\n",
        ")\n",
        "\n",
        "val_x = torch.from_numpy(val_data.iloc[:,3:].values).float()\n",
        "val_y = torch.from_numpy(val_data['age'].astype(\"float\").values).float()\n",
        "val_dataset = torch.utils.data.TensorDataset(val_x, val_y) \n",
        "\n",
        "valdata_loader  = torch.utils.data.DataLoader(\n",
        "    dataset=val_dataset,      # torch TensorDataset format\n",
        "    batch_size=bs,      # mini batch size\n",
        "    shuffle=True,\n",
        "    drop_last=True\n",
        ")\n",
        "\n",
        "feature_size = DNAm_data.shape[1]-3"
      ]
    },
    {
      "cell_type": "code",
      "execution_count": null,
      "metadata": {
        "colab": {
          "base_uri": "https://localhost:8080/"
        },
        "id": "BWl9Wjf1ks3O",
        "outputId": "35574c8f-7662-4020-d29a-04d38b793330"
      },
      "outputs": [
        {
          "data": {
            "text/plain": [
              "8677"
            ]
          },
          "execution_count": 55,
          "metadata": {},
          "output_type": "execute_result"
        }
      ],
      "source": [
        "feature_size"
      ]
    },
    {
      "cell_type": "code",
      "execution_count": null,
      "metadata": {
        "id": "gtBGMFW7fckr"
      },
      "outputs": [],
      "source": [
        "# May 15, 2022\n",
        "\n",
        "class VAE(nn.Module):\n",
        "    def __init__(self, image_size= feature_size, h_dim_1 = 64, h_dim_2 = 32, z_dim=16):\n",
        "        super(VAE, self).__init__()\n",
        "        self.encoder1 = nn.Sequential(\n",
        "            nn.Linear(image_size, h_dim_1),\n",
        "            nn.BatchNorm1d(h_dim_1),\n",
        "            nn.LeakyReLU(0.2))\n",
        "\n",
        "        self.encoder2 = nn.Sequential(\n",
        "            nn.Linear(h_dim_1, h_dim_1),\n",
        "            nn.BatchNorm1d(h_dim_1),\n",
        "            nn.LeakyReLU(0.2)\n",
        "        )\n",
        "        \n",
        "        self.encoder_22 = nn.Sequential(\n",
        "            nn.Linear(h_dim_2, h_dim_2),\n",
        "            nn.BatchNorm1d(h_dim_2),\n",
        "            nn.LeakyReLU(0.2)\n",
        "        )\n",
        "        \n",
        "        self.encoder3 = nn.Sequential(\n",
        "            nn.Linear(h_dim_1, h_dim_2),\n",
        "            nn.BatchNorm1d(h_dim_2),\n",
        "            nn.LeakyReLU(0.2)\n",
        "        )\n",
        "        \n",
        "        self.encoder = nn.Sequential(\n",
        "            nn.Linear(h_dim_2, z_dim*2)\n",
        "        )\n",
        "        self.fc1 = nn.Sequential(\n",
        "            nn.Linear(h_dim_1, z_dim),\n",
        "            nn.LeakyReLU(0.2)\n",
        "        )\n",
        "        \n",
        "        self.fc2 = nn.Sequential(\n",
        "            nn.Linear(h_dim_2, z_dim),\n",
        "            nn.LeakyReLU(0.2)\n",
        "        )\n",
        "\n",
        "        self.fc3 = nn.Sequential(\n",
        "            nn.Linear(h_dim_1, z_dim),\n",
        "            nn.LeakyReLU(0.2)\n",
        "        )\n",
        "  \n",
        "        self.decoder = nn.Sequential(\n",
        "            nn.Linear(z_dim, h_dim_2),\n",
        "            nn.BatchNorm1d(h_dim_2),\n",
        "            nn.LeakyReLU(0.2),\n",
        "            nn.Linear(h_dim_2, h_dim_1),\n",
        "            nn.BatchNorm1d(h_dim_1),\n",
        "            nn.LeakyReLU(0.2),\n",
        "            nn.Linear(h_dim_1, image_size),\n",
        "            nn.Sigmoid()\n",
        "        )\n",
        "\n",
        "        self.task2 = nn.Sequential(\n",
        "            nn.Linear(z_dim, 64),\n",
        "            nn.LeakyReLU(),\n",
        "            nn.Linear(64, 32),\n",
        "            nn.LeakyReLU(),\n",
        "            nn.Linear(32,1),\n",
        "            nn.Sigmoid()\n",
        "        )\n",
        "# predict age \n",
        "        self.task3 = nn.Sequential(\n",
        "            nn.Linear(z_dim*6, 32),\n",
        "            nn.BatchNorm1d(32),\n",
        "            nn.LeakyReLU(),\n",
        "            nn.Linear(32, 32),\n",
        "            nn.BatchNorm1d(32),\n",
        "            nn.LeakyReLU(),\n",
        "            nn.Linear(32,1)\n",
        "            #nn.Sigmoid()\n",
        "        )\n",
        "        \n",
        "\n",
        "    def reparameterize(self, mu, logvar):\n",
        "        \"\"\"\n",
        "        :param mu: mean from the encoder's latent space\n",
        "        :param log_var: log variance from the encoder's latent space\n",
        "        \"\"\"\n",
        "        std = logvar.mul(0.5).exp_()\n",
        "        esp = to_var(torch.randn(*mu.size()))\n",
        "        z = mu + std * esp\n",
        "        return z\n",
        "    \n",
        "    def forward(self, x):\n",
        "          h1 = self.encoder1(x)\n",
        "          h2 = self.encoder3(h1)\n",
        "          h3 = self.encoder_22(h2)\n",
        "          h32 = self.encoder_22(h3)\n",
        "          h33 = self.encoder_22(h32)\n",
        "          #h34 = self.encoder_22(h33)\n",
        "          h4 = self.encoder(h33)\n",
        "          mu, logvar = torch.chunk(h4, 2, dim=1)\n",
        "          z = self.reparameterize(mu, logvar)\n",
        "          #z2 = torch.cat((x1, x2.detach()), dim=1) \n",
        "\n",
        "          z1 = self.fc1(h1)\n",
        "          z2 = self.fc2(h2)\n",
        "          z3 = self.fc2(h3)\n",
        "          z31 = self.fc2(h32)\n",
        "          z32 = self.fc2(h33)\n",
        "          #z33 = self.fc2(h34)\n",
        "          z4 = torch.cat((z,z2,z1,z3,z31,z32), 1)\n",
        "          #pre_age = self.task2(z)\n",
        "          pre_age = self.task3(z4)\n",
        "          return self.decoder(z), mu, logvar, pre_age\n"
      ]
    },
    {
      "cell_type": "code",
      "execution_count": null,
      "metadata": {
        "id": "xu5g4gvvFeL2"
      },
      "outputs": [],
      "source": [
        "# define the learning parameters for training\n",
        "epochs = 50\n",
        "batch_size = 32\n",
        "lr = 0.001\n",
        "device = torch.device('cuda' if torch.cuda.is_available() else 'cpu')"
      ]
    },
    {
      "cell_type": "code",
      "execution_count": null,
      "metadata": {
        "id": "zbyHClgUx_sa"
      },
      "outputs": [],
      "source": [
        "# Feb. 28, 2022\n",
        "def loss_fn(recon_x, x, mu, logvar, label_age, pre_age):\n",
        "    BCE = F.binary_cross_entropy(recon_x, x.view(-1, 8192), reduction='sum')\n",
        "    # see Appendix B from VAE paper:\n",
        "    # Kingma and Welling. Auto-Encoding Variational Bayes. ICLR, 2014\n",
        "    # 0.5 * sum(1 + log(sigma^2) - mu^2 - sigma^2)\n",
        "    KLD = -0.5 * torch.sum(1 + logvar - mu**2 -  logvar.exp())\n",
        "    #KLD = -0.5 * torch.sum(1 + logvar - mu.pow(2) - logvar.exp())\n",
        "    loss_task2 = F.mse_loss(pre_age, to_var(torch.log(label_age+1)/4.62))\n",
        "    print(loss_task2)\n",
        "    return BCE + KLD + loss_task2"
      ]
    },
    {
      "cell_type": "markdown",
      "metadata": {
        "id": "2cPuOruYEd3P"
      },
      "source": [
        "Now I should explain why did I choose to divide the logarithm of the age by 4.75 (on the __getitem__ method from the dataset class) and why did I apply a sigmoid to the output of the age’s head (on the model definition).\n",
        "In theory the loss function should be able to learn the weights and scale each task’s loss. But in fact, in my experiments I concluded that keeping the task specific losses kind of in the same scale helps a lot in the fitting process. So I divided the logarithm of the ages by 4.75 because that is the maximum value of the log(age). So the result from log(age)/4.75 should be a number between zero and one and then the MSE loss wouldn’t be so bigger than the other losses. I applied a sigmoid after the age’s head so that I can force my model to always output a prediction in the acceptable range."
      ]
    },
    {
      "cell_type": "code",
      "execution_count": null,
      "metadata": {
        "colab": {
          "base_uri": "https://localhost:8080/"
        },
        "id": "YtK8F4iUzY5p",
        "outputId": "773b916f-bc27-4681-d34a-3ec26dee858c"
      },
      "outputs": [
        {
          "data": {
            "text/plain": [
              "<enumerate at 0x7feec8c66320>"
            ]
          },
          "execution_count": 22,
          "metadata": {},
          "output_type": "execute_result"
        }
      ],
      "source": [
        "enumerate(testdata_loader)"
      ]
    },
    {
      "cell_type": "code",
      "execution_count": null,
      "metadata": {
        "id": "7wLTyRJUY90D"
      },
      "outputs": [],
      "source": [
        "transformer = RobustScaler().fit(train.iloc[:,:-1])\n",
        "train1 = transformer.transform(train.iloc[:,:-1])\n",
        "train_x = torch.from_numpy(train1).float()\n",
        "\n",
        "transformer = RobustScaler().fit(test.iloc[:,:-1])\n",
        "test1 = transformer.transform(test.iloc[:,:-1])\n",
        "test_x = torch.from_numpy(test1).float()\n",
        "\n",
        "#train_x = torch.from_numpy(train1).float()\n",
        "train_y = torch.from_numpy(train.iloc[:,-1].values).float() \n",
        "train_dataset = torch.utils.data.TensorDataset(train_x, train_y) \n",
        "\n",
        "#test_x = torch.from_numpy(test.iloc[:,:-1].values).float()\n",
        "test_y = torch.from_numpy(test.iloc[:,-1].values).float() \n",
        "test_dataset = torch.utils.data.TensorDataset(test_x, test_y) \n",
        "\n",
        "traindata_loader  = torch.utils.data.DataLoader(\n",
        "    dataset=train_dataset,      # torch TensorDataset format\n",
        "    batch_size=bs,      # mini batch size\n",
        "    shuffle=True\n",
        ")\n",
        "\n",
        "testdata_loader  = torch.utils.data.DataLoader(\n",
        "    dataset=test_dataset,      # torch TensorDataset format\n",
        "    batch_size=bs,      # mini batch size\n",
        "    shuffle=True\n",
        ")\n"
      ]
    },
    {
      "cell_type": "code",
      "execution_count": null,
      "metadata": {
        "id": "YU7gCM9Wrp15"
      },
      "outputs": [],
      "source": [
        "# define the validation function\n",
        "def validate(model):\n",
        "    #print('Validating')\n",
        "    model.eval()\n",
        "    run_loss = 0.0\n",
        "    counter = 0\n",
        "    flag_age = 11\n",
        "    number_sample = val_data.shape[0]\n",
        "    with torch.no_grad():\n",
        "        for idx, (test_DNAm_x, lab_age) in enumerate(valdata_loader):\n",
        "        #for i, data in tqdm(enumerate(dataloader), total=int(len(testset)/dataloader.batch_size)):\n",
        "            counter += 1\n",
        "            test_DNAm_x = flatten(test_DNAm_x) \n",
        "            recon_x, mu, logvar, pre_age = model(test_DNAm_x)\n",
        "        #print(idx, images.shape,lab_age)\n",
        "        # Caluculate loss_task1 for VAE \n",
        "            BCE = F.binary_cross_entropy(recon_x, test_DNAm_x.view(-1, feature_size), reduction='sum')\n",
        "            KLD = -0.5 * torch.sum(1 + logvar - mu**2 -  logvar.exp())\n",
        "            loss_task1 = BCE + KLD\n",
        "            #loss_task2 = F.l1_loss(pre_age, to_var(lab_age), reduction = 'mean')\n",
        "            #loss_task2 = F.l1_loss(pre_age, to_var(np.log(lab_age+1)),reduction = 'mean') \n",
        "            #loss_task3 = F.mse_loss(pre_age.view(-1), to_var(lab_age),reduction = 'sum') \n",
        "            if flag_age ==1:\n",
        "              loss_task3 = F.mse_loss(pre_age.view(-1), to_var(lab_age),reduction = 'sum')\n",
        "            elif flag_age ==2:\n",
        "              loss_task3 = F.mse_loss(pre_age.view(-1), to_var(torch.log(lab_age+1)/Mage),reduction = 'sum') \n",
        "            else:\n",
        "              loss_task3 = F.mse_loss(pre_age.view(-1), to_var(torch.log(lab_age+2)),reduction = 'sum') \n",
        "             \n",
        "            #loss_task2 = F.mse_loss(pre_age.view(-1), to_var(torch.log(lab_age+1)/Mage),reduction = 'sum') \n",
        "            #loss_task2 = F.l1_loss(pre_age, to_var(np.log(lab_age+1)), reduction = 'mean')\n",
        "            #loss_task2 = F.L1Loss(pre_age, to_var(np.log(lab_age+1))) #to_var(torch.log(lab_age+1)/Mage))\n",
        "       # print(loss_task2)\n",
        "            #loss = loss_task1 + loss_task2\n",
        "            run_loss += loss_task3.item() \n",
        "    \n",
        "    epoch_loss = run_loss / number_sample\n",
        "    #print(f\"Val Loss: {epoch_loss:.3f}\")  \n",
        "    # save the reconstructed images every 5 epochs\n",
        "    \n",
        "    return epoch_loss"
      ]
    },
    {
      "cell_type": "code",
      "execution_count": null,
      "metadata": {
        "id": "nhRIDuHOlFrp"
      },
      "outputs": [],
      "source": [
        "test_x = test.iloc[:,:-1]\n",
        "test_y =test.iloc[:,-1]"
      ]
    },
    {
      "cell_type": "code",
      "execution_count": null,
      "metadata": {
        "id": "DmFfrJ6EonqK"
      },
      "outputs": [],
      "source": [
        "epochs = 200\n",
        "w1 = 0.0005\n",
        "lr = 0.001\n",
        "model = VAE()\n",
        "weight_decay = 0.0001\n",
        "if torch.cuda.is_available():\n",
        "    model.cuda()\n",
        "\n",
        "optimizer = torch.optim.Adam(model.parameters(), lr=lr) #, weight_decay = weight_decay)\n",
        "\n",
        "flag_age = 11 # age \n",
        "train_loss_list_age = [] #\n",
        "val_loss_list_age = []\n",
        "train_loss_list_vae = []\n",
        "num_sample = train.shape[0]\n",
        "best_epoch =0\n",
        "saved_loss_age =100000\n"
      ]
    },
    {
      "cell_type": "code",
      "execution_count": null,
      "metadata": {
        "id": "SkMY3mpJFKwu"
      },
      "outputs": [],
      "source": [
        "epochs = 50"
      ]
    },
    {
      "cell_type": "code",
      "execution_count": null,
      "metadata": {
        "colab": {
          "background_save": true,
          "base_uri": "https://localhost:8080/"
        },
        "id": "eDQxCplWyaBT",
        "outputId": "feb1d267-b488-426d-d1e3-14bd52ff1b91"
      },
      "outputs": [
        {
          "name": "stdout",
          "output_type": "stream",
          "text": [
            "Epoch:  0 Train loss Age:0.334\n",
            "Val loss Age:3.964\n",
            "Epoch:  1 Train loss Age:0.025\n",
            "Val loss Age:3.582\n",
            "Epoch:  2 Train loss Age:0.012\n",
            "Val loss Age:3.756\n",
            "Epoch:  3 Train loss Age:0.008\n",
            "Val loss Age:3.905\n",
            "Epoch:  4 Train loss Age:0.005\n",
            "Val loss Age:3.813\n",
            "Epoch:  5 Train loss Age:0.005\n",
            "Val loss Age:3.835\n",
            "Epoch:  6 Train loss Age:0.004\n",
            "Val loss Age:4.023\n",
            "Epoch:  7 Train loss Age:0.004\n",
            "Val loss Age:3.796\n",
            "Epoch:  8 Train loss Age:0.004\n",
            "Val loss Age:3.938\n",
            "Epoch:  9 Train loss Age:0.004\n",
            "Val loss Age:3.810\n",
            "Epoch:  10 Train loss Age:0.003\n",
            "Val loss Age:3.803\n",
            "Epoch:  11 Train loss Age:0.003\n",
            "Val loss Age:3.818\n",
            "Epoch:  12 Train loss Age:0.003\n",
            "Val loss Age:3.865\n",
            "Epoch:  13 Train loss Age:0.003\n",
            "Val loss Age:3.957\n",
            "Epoch:  14 Train loss Age:0.003\n",
            "Val loss Age:3.861\n",
            "Epoch:  15 Train loss Age:0.002\n",
            "Val loss Age:3.811\n",
            "Epoch:  16 Train loss Age:0.002\n",
            "Val loss Age:3.844\n",
            "Epoch:  17 Train loss Age:0.003\n",
            "Val loss Age:3.810\n",
            "Epoch:  18 Train loss Age:0.002\n",
            "Val loss Age:3.895\n",
            "Epoch:  19 Train loss Age:0.003\n",
            "Val loss Age:3.764\n",
            "Epoch:  20 Train loss Age:0.002\n",
            "Val loss Age:3.900\n",
            "Epoch:  21 Train loss Age:0.002\n",
            "Val loss Age:3.885\n",
            "Epoch:  22 Train loss Age:0.002\n",
            "Val loss Age:3.838\n",
            "Epoch:  23 Train loss Age:0.002\n",
            "Val loss Age:3.938\n",
            "Epoch:  24 Train loss Age:0.003\n",
            "Val loss Age:3.942\n",
            "Epoch:  25 Train loss Age:0.002\n",
            "Val loss Age:3.754\n",
            "Epoch:  26 Train loss Age:0.002\n",
            "Val loss Age:3.823\n",
            "Epoch:  27 Train loss Age:0.002\n",
            "Val loss Age:3.858\n",
            "Epoch:  28 Train loss Age:0.002\n",
            "Val loss Age:3.885\n",
            "Epoch:  29 Train loss Age:0.002\n",
            "Val loss Age:3.857\n",
            "Epoch:  30 Train loss Age:0.002\n",
            "Val loss Age:3.859\n",
            "Epoch:  31 Train loss Age:0.002\n",
            "Val loss Age:3.723\n",
            "Epoch:  32 Train loss Age:0.002\n",
            "Val loss Age:3.935\n",
            "Epoch:  33 Train loss Age:0.002\n",
            "Val loss Age:3.866\n",
            "Epoch:  34 Train loss Age:0.002\n",
            "Val loss Age:3.853\n",
            "Epoch:  35 Train loss Age:0.001\n",
            "Val loss Age:3.842\n",
            "Epoch:  36 Train loss Age:0.002\n",
            "Val loss Age:4.061\n",
            "Epoch:  37 Train loss Age:0.001\n",
            "Val loss Age:3.769\n",
            "Epoch:  38 Train loss Age:0.001\n",
            "Val loss Age:3.835\n",
            "Epoch:  39 Train loss Age:0.001\n",
            "Val loss Age:3.877\n",
            "Epoch:  40 Train loss Age:0.001\n",
            "Val loss Age:3.836\n",
            "Epoch:  41 Train loss Age:0.001\n",
            "Val loss Age:3.861\n",
            "Epoch:  42 Train loss Age:0.001\n",
            "Val loss Age:3.911\n",
            "Epoch:  43 Train loss Age:0.002\n",
            "Val loss Age:3.860\n",
            "Epoch:  44 Train loss Age:0.001\n",
            "Val loss Age:3.853\n",
            "Epoch:  45 Train loss Age:0.001\n",
            "Val loss Age:3.865\n",
            "Epoch:  46 Train loss Age:0.002\n",
            "Val loss Age:3.772\n",
            "Epoch:  47 Train loss Age:0.001\n",
            "Val loss Age:3.752\n",
            "Epoch:  48 Train loss Age:0.001\n",
            "Val loss Age:3.864\n",
            "Epoch:  49 Train loss Age:0.001\n",
            "Val loss Age:3.766\n",
            "Epoch:  50 Train loss Age:0.001\n",
            "Val loss Age:3.803\n",
            "Epoch:  51 Train loss Age:0.001\n",
            "Val loss Age:3.867\n",
            "Epoch:  52 Train loss Age:0.001\n",
            "Val loss Age:3.856\n",
            "Epoch:  53 Train loss Age:0.001\n",
            "Val loss Age:3.885\n",
            "Epoch:  54 Train loss Age:0.001\n",
            "Val loss Age:3.871\n",
            "Epoch:  55 Train loss Age:0.001\n",
            "Val loss Age:3.926\n",
            "Epoch:  56 Train loss Age:0.001\n",
            "Val loss Age:4.009\n",
            "Epoch:  57 Train loss Age:0.001\n",
            "Val loss Age:3.892\n",
            "Epoch:  58 Train loss Age:0.001\n",
            "Val loss Age:3.847\n",
            "Epoch:  59 Train loss Age:0.001\n",
            "Val loss Age:3.955\n",
            "Epoch:  60 Train loss Age:0.001\n",
            "Val loss Age:3.773\n",
            "Epoch:  61 Train loss Age:0.001\n",
            "Val loss Age:3.751\n",
            "Epoch:  62 Train loss Age:0.001\n",
            "Val loss Age:3.893\n",
            "Epoch:  63 Train loss Age:0.001\n",
            "Val loss Age:3.872\n",
            "Epoch:  64 Train loss Age:0.001\n",
            "Val loss Age:3.892\n",
            "Epoch:  65 Train loss Age:0.001\n",
            "Val loss Age:3.828\n",
            "Epoch:  66 Train loss Age:0.001\n",
            "Val loss Age:3.963\n",
            "Epoch:  67 Train loss Age:0.001\n",
            "Val loss Age:3.879\n",
            "Epoch:  68 Train loss Age:0.001\n",
            "Val loss Age:3.934\n",
            "Epoch:  69 Train loss Age:0.001\n",
            "Val loss Age:3.832\n",
            "Epoch:  70 Train loss Age:0.001\n",
            "Val loss Age:3.884\n",
            "Epoch:  71 Train loss Age:0.001\n",
            "Val loss Age:3.825\n",
            "Epoch:  72 Train loss Age:0.001\n",
            "Val loss Age:3.897\n",
            "Epoch:  73 Train loss Age:0.001\n",
            "Val loss Age:3.772\n",
            "Epoch:  74 Train loss Age:0.001\n",
            "Val loss Age:3.854\n",
            "Epoch:  75 Train loss Age:0.001\n",
            "Val loss Age:3.871\n",
            "Epoch:  76 Train loss Age:0.001\n",
            "Val loss Age:3.840\n",
            "Epoch:  77 Train loss Age:0.001\n",
            "Val loss Age:3.855\n",
            "Epoch:  78 Train loss Age:0.001\n",
            "Val loss Age:3.803\n",
            "Epoch:  79 Train loss Age:0.001\n",
            "Val loss Age:3.941\n",
            "Epoch:  80 Train loss Age:0.001\n",
            "Val loss Age:3.820\n",
            "Epoch:  81 Train loss Age:0.001\n",
            "Val loss Age:3.825\n",
            "Epoch:  82 Train loss Age:0.001\n",
            "Val loss Age:3.825\n",
            "Epoch:  83 Train loss Age:0.001\n",
            "Val loss Age:3.826\n",
            "Epoch:  84 Train loss Age:0.001\n",
            "Val loss Age:3.838\n",
            "Epoch:  85 Train loss Age:0.001\n",
            "Val loss Age:3.871\n",
            "Epoch:  86 Train loss Age:0.001\n",
            "Val loss Age:3.890\n",
            "Epoch:  87 Train loss Age:0.001\n",
            "Val loss Age:3.842\n",
            "Epoch:  88 Train loss Age:0.001\n",
            "Val loss Age:3.760\n",
            "Epoch:  89 Train loss Age:0.001\n",
            "Val loss Age:3.835\n",
            "Epoch:  90 Train loss Age:0.001\n",
            "Val loss Age:3.898\n",
            "Epoch:  91 Train loss Age:0.001\n",
            "Val loss Age:3.871\n",
            "Epoch:  92 Train loss Age:0.001\n",
            "Val loss Age:3.784\n",
            "Epoch:  93 Train loss Age:0.001\n",
            "Val loss Age:3.921\n",
            "Epoch:  94 Train loss Age:0.001\n",
            "Val loss Age:3.874\n",
            "Epoch:  95 Train loss Age:0.001\n",
            "Val loss Age:3.847\n",
            "Epoch:  96 Train loss Age:0.001\n",
            "Val loss Age:3.836\n",
            "Epoch:  97 Train loss Age:0.001\n",
            "Val loss Age:3.887\n",
            "Epoch:  98 Train loss Age:0.001\n",
            "Val loss Age:3.883\n",
            "Epoch:  99 Train loss Age:0.001\n",
            "Val loss Age:3.954\n",
            "Epoch:  100 Train loss Age:0.001\n",
            "Val loss Age:3.857\n",
            "Epoch:  101 Train loss Age:0.001\n",
            "Val loss Age:3.821\n",
            "Epoch:  102 Train loss Age:0.001\n",
            "Val loss Age:3.820\n",
            "Epoch:  103 Train loss Age:0.001\n",
            "Val loss Age:3.915\n",
            "Epoch:  104 Train loss Age:0.001\n",
            "Val loss Age:3.893\n",
            "Epoch:  105 Train loss Age:0.001\n",
            "Val loss Age:3.781\n",
            "Epoch:  106 Train loss Age:0.001\n",
            "Val loss Age:3.818\n",
            "Epoch:  107 Train loss Age:0.001\n",
            "Val loss Age:3.773\n",
            "Epoch:  108 Train loss Age:0.001\n",
            "Val loss Age:3.855\n",
            "Epoch:  109 Train loss Age:0.001\n",
            "Val loss Age:3.955\n",
            "Epoch:  110 Train loss Age:0.001\n",
            "Val loss Age:3.787\n",
            "Epoch:  111 Train loss Age:0.000\n",
            "Val loss Age:3.786\n",
            "Epoch:  112 Train loss Age:0.000\n",
            "Val loss Age:3.858\n",
            "Epoch:  113 Train loss Age:0.001\n",
            "Val loss Age:3.848\n",
            "Epoch:  114 Train loss Age:0.001\n",
            "Val loss Age:3.899\n",
            "Epoch:  115 Train loss Age:0.001\n",
            "Val loss Age:3.805\n",
            "Epoch:  116 Train loss Age:0.000\n",
            "Val loss Age:3.783\n",
            "Epoch:  117 Train loss Age:0.000\n",
            "Val loss Age:3.906\n",
            "Epoch:  118 Train loss Age:0.001\n",
            "Val loss Age:3.806\n",
            "Epoch:  119 Train loss Age:0.001\n",
            "Val loss Age:3.840\n",
            "Epoch:  120 Train loss Age:0.001\n",
            "Val loss Age:3.890\n",
            "Epoch:  121 Train loss Age:0.000\n",
            "Val loss Age:3.969\n",
            "Epoch:  122 Train loss Age:0.000\n",
            "Val loss Age:3.836\n",
            "Epoch:  123 Train loss Age:0.000\n",
            "Val loss Age:3.941\n",
            "Epoch:  124 Train loss Age:0.001\n",
            "Val loss Age:3.823\n",
            "Epoch:  125 Train loss Age:0.001\n",
            "Val loss Age:3.870\n",
            "Epoch:  126 Train loss Age:0.001\n",
            "Val loss Age:3.931\n",
            "Epoch:  127 Train loss Age:0.000\n",
            "Val loss Age:3.860\n",
            "Epoch:  128 Train loss Age:0.000\n",
            "Val loss Age:3.785\n",
            "Epoch:  129 Train loss Age:0.001\n",
            "Val loss Age:3.784\n",
            "Epoch:  130 Train loss Age:0.001\n",
            "Val loss Age:3.898\n",
            "Epoch:  131 Train loss Age:0.001\n",
            "Val loss Age:3.884\n",
            "Epoch:  132 Train loss Age:0.001\n",
            "Val loss Age:3.799\n",
            "Epoch:  133 Train loss Age:0.000\n",
            "Val loss Age:3.747\n",
            "Epoch:  134 Train loss Age:0.001\n",
            "Val loss Age:3.774\n",
            "Epoch:  135 Train loss Age:0.001\n",
            "Val loss Age:3.842\n",
            "Epoch:  136 Train loss Age:0.000\n",
            "Val loss Age:3.784\n",
            "Epoch:  137 Train loss Age:0.001\n",
            "Val loss Age:3.906\n",
            "Epoch:  138 Train loss Age:0.000\n",
            "Val loss Age:3.829\n",
            "Epoch:  139 Train loss Age:0.000\n",
            "Val loss Age:3.891\n",
            "Epoch:  140 Train loss Age:0.000\n",
            "Val loss Age:3.773\n",
            "Epoch:  141 Train loss Age:0.001\n",
            "Val loss Age:3.851\n",
            "Epoch:  142 Train loss Age:0.001\n",
            "Val loss Age:3.991\n",
            "Epoch:  143 Train loss Age:0.001\n",
            "Val loss Age:3.838\n",
            "Epoch:  144 Train loss Age:0.000\n",
            "Val loss Age:3.859\n",
            "Epoch:  145 Train loss Age:0.000\n",
            "Val loss Age:3.846\n",
            "Epoch:  146 Train loss Age:0.000\n",
            "Val loss Age:3.909\n",
            "Epoch:  147 Train loss Age:0.001\n",
            "Val loss Age:3.753\n",
            "Epoch:  148 Train loss Age:0.000\n",
            "Val loss Age:3.773\n",
            "Epoch:  149 Train loss Age:0.001\n",
            "Val loss Age:3.882\n",
            "Epoch:  150 Train loss Age:0.001\n",
            "Val loss Age:3.847\n",
            "Epoch:  151 Train loss Age:0.000\n",
            "Val loss Age:3.923\n",
            "Epoch:  152 Train loss Age:0.001\n",
            "Val loss Age:3.831\n",
            "Epoch:  153 Train loss Age:0.000\n",
            "Val loss Age:3.917\n",
            "Epoch:  154 Train loss Age:0.000\n",
            "Val loss Age:3.986\n",
            "Epoch:  155 Train loss Age:0.000\n",
            "Val loss Age:3.959\n",
            "Epoch:  156 Train loss Age:0.000\n",
            "Val loss Age:3.785\n",
            "Epoch:  157 Train loss Age:0.000\n",
            "Val loss Age:3.875\n",
            "Epoch:  158 Train loss Age:0.000\n",
            "Val loss Age:3.909\n",
            "Epoch:  159 Train loss Age:0.000\n",
            "Val loss Age:3.841\n",
            "Epoch:  160 Train loss Age:0.000\n",
            "Val loss Age:3.842\n",
            "Epoch:  161 Train loss Age:0.000\n",
            "Val loss Age:3.864\n",
            "Epoch:  162 Train loss Age:0.000\n",
            "Val loss Age:3.880\n",
            "Epoch:  163 Train loss Age:0.000\n",
            "Val loss Age:3.814\n",
            "Epoch:  164 Train loss Age:0.000\n",
            "Val loss Age:3.808\n",
            "Epoch:  165 Train loss Age:0.000\n",
            "Val loss Age:3.898\n",
            "Epoch:  166 Train loss Age:0.001\n",
            "Val loss Age:3.812\n",
            "Epoch:  167 Train loss Age:0.001\n",
            "Val loss Age:3.723\n",
            "Epoch:  168 Train loss Age:0.000\n",
            "Val loss Age:3.832\n",
            "Epoch:  169 Train loss Age:0.000\n",
            "Val loss Age:3.861\n",
            "Epoch:  170 Train loss Age:0.000\n",
            "Val loss Age:3.780\n",
            "Epoch:  171 Train loss Age:0.000\n",
            "Val loss Age:3.907\n",
            "Epoch:  172 Train loss Age:0.000\n",
            "Val loss Age:3.788\n",
            "Epoch:  173 Train loss Age:0.000\n",
            "Val loss Age:3.794\n",
            "Epoch:  174 Train loss Age:0.000\n",
            "Val loss Age:3.862\n",
            "Epoch:  175 Train loss Age:0.001\n",
            "Val loss Age:3.882\n",
            "Epoch:  176 Train loss Age:0.001\n",
            "Val loss Age:3.973\n",
            "Epoch:  177 Train loss Age:0.001\n",
            "Val loss Age:3.830\n",
            "Epoch:  178 Train loss Age:0.001\n",
            "Val loss Age:3.895\n",
            "Epoch:  179 Train loss Age:0.000\n",
            "Val loss Age:3.879\n",
            "Epoch:  180 Train loss Age:0.001\n",
            "Val loss Age:3.936\n",
            "Epoch:  181 Train loss Age:0.000\n",
            "Val loss Age:3.820\n",
            "Epoch:  182 Train loss Age:0.000\n",
            "Val loss Age:3.863\n",
            "Epoch:  183 Train loss Age:0.000\n",
            "Val loss Age:3.899\n",
            "Epoch:  184 Train loss Age:0.000\n",
            "Val loss Age:3.862\n",
            "Epoch:  185 Train loss Age:0.000\n",
            "Val loss Age:3.771\n",
            "Epoch:  186 Train loss Age:0.001\n",
            "Val loss Age:3.898\n",
            "Epoch:  187 Train loss Age:0.000\n",
            "Val loss Age:3.836\n",
            "Epoch:  188 Train loss Age:0.000\n",
            "Val loss Age:3.838\n",
            "Epoch:  189 Train loss Age:0.000\n",
            "Val loss Age:3.746\n",
            "Epoch:  190 Train loss Age:0.000\n",
            "Val loss Age:3.930\n",
            "Epoch:  191 Train loss Age:0.001\n",
            "Val loss Age:3.927\n",
            "Epoch:  192 Train loss Age:0.003\n",
            "Val loss Age:3.887\n",
            "Epoch:  193 Train loss Age:0.001\n",
            "Val loss Age:3.866\n",
            "Epoch:  194 Train loss Age:0.001\n",
            "Val loss Age:3.856\n",
            "Epoch:  195 Train loss Age:0.000\n",
            "Val loss Age:3.838\n",
            "Epoch:  196 Train loss Age:0.000\n",
            "Val loss Age:3.843\n",
            "Epoch:  197 Train loss Age:0.000\n",
            "Val loss Age:3.942\n",
            "Epoch:  198 Train loss Age:0.000\n",
            "Val loss Age:3.812\n",
            "Epoch:  199 Train loss Age:0.000\n",
            "Val loss Age:3.864\n",
            "Best test: 1\n",
            "Best train: 188\n",
            "Best VAE: 198\n",
            "Best epoch: 1\n"
          ]
        }
      ],
      "source": [
        "for epoch in range(epochs):\n",
        "    loss = 0.0\n",
        "    train_loss_age = 0.0\n",
        "    train_loss_vae = 0.0\n",
        "    val_loss_age = 0.0\n",
        "    total_iter = len(traindata_loader)\n",
        "    #total_loss,total_recon_loss,total_kl_loss=0.,0.,0.\n",
        "    end = time.time()\n",
        "\n",
        "    for idx, (train_DNAm_x, lab_age) in enumerate(traindata_loader):\n",
        "        \n",
        "        train_DNAm_x = flatten(train_DNAm_x) \n",
        "        recon_x, mu, logvar, pre_age = model(train_DNAm_x)\n",
        "        #print(idx, images.shape,lab_age)\n",
        "        # Caluculate loss_task1 for VAE \n",
        "        BCE = F.binary_cross_entropy(recon_x, train_DNAm_x.view(-1,feature_size ), reduction='sum')\n",
        "        KLD = -0.5 * torch.sum(1 + logvar - mu**2 -  logvar.exp())\n",
        "        loss_task1 = BCE + KLD\n",
        "\n",
        "        #loss_task2 = F.l1_loss(pre_age, to_var(np.log(lab_age+1)),reduction = 'mean') \n",
        "        ###loss_task2 = F.mse_loss(pre_age.view(-1), to_var(torch.log(lab_age+1)/Mage),reduction = 'sum') \n",
        "        if flag_age ==1:\n",
        "            loss_task3 = F.mse_loss(pre_age.view(-1), to_var(lab_age),reduction = 'sum')\n",
        "        elif flag_age ==2:\n",
        "            loss_task3 = F.mse_loss(pre_age.view(-1), to_var(torch.log(lab_age+1)/Mage),reduction = 'sum') \n",
        "        else:\n",
        "            loss_task3 = F.mse_loss(pre_age.view(-1), to_var(torch.log(lab_age+2)),reduction = 'sum') \n",
        "        #print(pre_age.shape, to_var(torch.log(lab_age+1)/Mage))\n",
        "        #loss_task2 = F.l1_loss(pre_age, to_var(lab_age), reduction = 'mean')\n",
        "        #loss_task2 = F.mse_loss(pre_age, to_var(np.log(lab_age+1))) \n",
        "        #to_var(torch.log(lab_age+1)/Mage))to_var(torch.log(lab_age+1)/Mage))\n",
        "     #   print(loss_task1)\n",
        "        loss = w1*loss_task1 + loss_task3\n",
        "\n",
        "        optimizer.zero_grad()\n",
        "        loss.backward()\n",
        "        optimizer.step()\n",
        "\n",
        "        train_loss_age += loss_task3.item()\n",
        "        train_loss_vae += loss_task1.item()\n",
        "        \n",
        "        # measure elasped time\n",
        "\n",
        "        end = time.time()\n",
        "    train_loss_age = train_loss_age /num_sample\n",
        "    train_loss_vae = train_loss_vae / num_sample\n",
        "\n",
        "    #print(f\"Train loss all:{ epoch_loss:.3f}\")\n",
        "    print('Epoch: ', epoch, f\"Train loss Age:{ train_loss_age:.3f}\")\n",
        "\n",
        "    val_loss_age = validate(model)\n",
        "    print(f\"Val loss Age:{ val_loss_age:.3f}\")\n",
        "    if val_loss_age < saved_loss_age:\n",
        "      saved_loss_age = val_loss_age\n",
        "      best_epoch = epoch\n",
        "      \n",
        "    train_loss_list_vae.append(train_loss_vae)\n",
        "    train_loss_list_age.append(train_loss_age)\n",
        "    val_loss_list_age.append(val_loss_age)\n",
        "\n",
        "print('Best test:', val_loss_list_age.index(min(val_loss_list_age)))\n",
        "print('Best train:', train_loss_list_age.index(min(train_loss_list_age)))\n",
        "print('Best VAE:', train_loss_list_vae.index(min(train_loss_list_vae)))\n",
        "print('Best epoch:', best_epoch)\n",
        "        "
      ]
    },
    {
      "cell_type": "code",
      "execution_count": null,
      "metadata": {
        "colab": {
          "base_uri": "https://localhost:8080/",
          "height": 300
        },
        "id": "Qxpm_MHEJLqV",
        "outputId": "2adca843-11c2-492e-fe4b-7f1630400891"
      },
      "outputs": [
        {
          "data": {
            "text/plain": [
              "(3.6656895, 4.948313, 51.34214, array([[1.        , 0.95983651],\n",
              "        [0.95983651, 1.        ]]))"
            ]
          },
          "execution_count": 39,
          "metadata": {},
          "output_type": "execute_result"
        },
        {
          "data": {
            "image/png": "[encoded data removed]",
            "text/plain": [
              "<Figure size 432x288 with 1 Axes>"
            ]
          },
          "metadata": {},
          "output_type": "display_data"
        }
      ],
      "source": [
        "import numpy as np\n",
        "import matplotlib.pyplot as plt\n",
        "from sklearn.metrics import mean_absolute_error\n",
        "from sklearn.metrics import mean_squared_error\n",
        "from sklearn.metrics import median_absolute_error\n",
        "\n",
        "number_sample = test.shape[0]\n",
        "pred_age_list = []\n",
        "ground_age_list = []\n",
        "with torch.no_grad():\n",
        "    for idx, (test_DNAm_x, lab_age) in enumerate(testdata_loader):\n",
        "    #for i, data in tqdm(enumerate(dataloader), total=int(len(testset)/dataloader.batch_size)):\n",
        "        test_DNAm_x = flatten(test_DNAm_x) \n",
        "        recon_x, mu, logvar, pre_age = model(test_DNAm_x)\n",
        "\n",
        "        pred_age_list.extend(pre_age.view(-1).cpu().data.numpy() )\n",
        "        ground_age_list.extend(lab_age.cpu().data.numpy())\n",
        "\n",
        "#y = list(map(lambda y1: np.exp(y1*Mage) -1, pred_age_list))\n",
        "#y = list(map(lambda y1: np.exp(y1) -1, pred_age_list))\n",
        "y= pred_age_list\n",
        "x = ground_age_list\n",
        "\n",
        "fig, ax = plt.subplots()\n",
        "ax.scatter(x, y, c='g')\n",
        "ax.plot([0,1],[0,1], transform=ax.transAxes)\n",
        "\n",
        "median_absolute_error(x,y),mean_absolute_error(x,y), mean_squared_error(x,y), np.corrcoef(x,y)\n",
        "\n",
        "\n"
      ]
    },
    {
      "cell_type": "code",
      "execution_count": null,
      "metadata": {
        "id": "fUkYLl4F-7nU"
      },
      "outputs": [],
      "source": [
        "import shap"
      ]
    },
    {
      "cell_type": "code",
      "execution_count": null,
      "metadata": {
        "id": "KsbLVz0Mw9Lv"
      },
      "outputs": [],
      "source": [
        "# build mlp\n",
        "model = Sequential()\n",
        "model.add(Dense(32, input_dim=x_train.shape[1], activation='relu'))\n",
        "model.add(Dropout(0.25))\n",
        "model.add(Dense(32, activation='relu'))\n",
        "model.add(Dropout(0.25))\n",
        "model.add(Dense(32, activation='relu'))\n",
        "model.add(Dropout(0.25))\n",
        "model.add(Dense(32, activation='relu'))\n",
        "model.add(Dropout(0.25))\n",
        "model.add(Dense(32, activation='relu'))\n",
        "model.add(Dropout(0.25))\n",
        "model.add(Dense(1, activation='linear'))\n",
        "# compile model\n",
        "model.compile(loss='mean_squared_error', optimizer = 'adam')\n",
        "# fit model\n",
        "#model.fit(x_train, y_train, epochs=10, batch_size=64)\n",
        "model.fit(x_train, y_train, validation_data=(x_test, y_test), epochs=20, verbose=0,batch_size=64)"
      ]
    },
    {
      "cell_type": "code",
      "execution_count": null,
      "metadata": {
        "id": "tt8_H7VLEobu"
      },
      "outputs": [],
      "source": [
        "opt = SGD(lr=0.01, momentum=0.9)\n",
        "model.compile(loss='mean_squared_logarithmic_error', optimizer=opt, metrics=['mse'])\n",
        "# fit model\n",
        "history = model.fit(x_train, y_train, validation_data=(x_test, y_test), epochs=20, verbose=0)\n",
        "# evaluate the model\n",
        "_, train_mse = model.evaluate(x_train, y_train, verbose=0)\n",
        "_, test_mse = model.evaluate(x_test, y_test, verbose=0)\n",
        "print('Train: %.3f, Test: %.3f' % (train_mse, test_mse))\n",
        "# plot loss during training\n",
        "pyplot.subplot(211)\n",
        "pyplot.title('Loss')\n",
        "pyplot.plot(history.history['loss'], label='train')\n",
        "pyplot.plot(history.history['val_loss'], label='test')\n",
        "pyplot.legend()\n",
        "# plot mse during training\n",
        "pyplot.subplot(212)\n",
        "pyplot.title('Mean Squared Error')\n",
        "pyplot.plot(history.history['mean_squared_error'], label='train')\n",
        "pyplot.plot(history.history['val_mean_squared_error'], label='test')\n",
        "pyplot.legend()\n",
        "pyplot.show()"
      ]
    },
    {
      "cell_type": "code",
      "execution_count": null,
      "metadata": {
        "id": "W35I1cCuE-bL"
      },
      "outputs": [],
      "source": [
        "\n",
        "# mlp for regression with msle loss function\n",
        "from sklearn.datasets import make_regression\n",
        "from sklearn.preprocessing import StandardScaler\n",
        "from keras.models import Sequential\n",
        "from keras.layers import Dense\n",
        "from keras.optimizers import SGD\n",
        "from matplotlib import pyplot"
      ]
    },
    {
      "cell_type": "code",
      "execution_count": null,
      "metadata": {
        "id": "LfcnRdgUxAHQ"
      },
      "outputs": [],
      "source": [
        "\n",
        "history = model.fit(x_train, y_train, validation_data=(x_test, y_test), epochs=20, verbose=0)\n",
        "# evaluate the model\n",
        "train_mse = model.evaluate(x_train, y_train,  verbose=0)\n",
        "test_mse = model.evaluate(x_test, y_test, verbose=0)\n",
        "print('Train: %.3f, Test: %.3f' % (train_mse, test_mse))\n",
        "# plot loss during training# compute SHAP values\n"
      ]
    },
    {
      "cell_type": "code",
      "execution_count": null,
      "metadata": {
        "id": "5sg98X6H-3hu"
      },
      "outputs": [],
      "source": []
    },
    {
      "cell_type": "code",
      "execution_count": null,
      "metadata": {
        "colab": {
          "base_uri": "https://localhost:8080/",
          "height": 445
        },
        "id": "pdPOfAkM2e-L",
        "outputId": "6e93a447-3c24-4b0f-fe73-7911ab203a30"
      },
      "outputs": [
        {
          "data": {
            "image/png": "[encoded data removed]",
            "text/plain": [
              "<Figure size 720x504 with 1 Axes>"
            ]
          },
          "metadata": {},
          "output_type": "display_data"
        }
      ],
      "source": [
        "# loss plots\n",
        "plt.figure(figsize=(10, 7))\n",
        "plt.plot(train_loss_list_age, color='orange', label='train loss: Age')\n",
        "plt.plot(val_loss_list_age, color='red', label='Val loss: Age')\n",
        "#plt.plot(train_loss_list_vae, color='green', label='VAE loss')\n",
        "#plt.plot(train_loss_list_vae, color='green', label='VAE loss')\n",
        "plt.xlabel('Epochs')\n",
        "plt.ylabel('Loss')\n",
        "plt.legend()\n",
        "#plt.savefig('../outputs/loss.png')\n",
        "plt.show()"
      ]
    },
    {
      "cell_type": "code",
      "execution_count": null,
      "metadata": {
        "id": "mGJ_STl2F8IT"
      },
      "outputs": [],
      "source": []
    },
    {
      "cell_type": "markdown",
      "metadata": {
        "id": "c-pnoxHXGHLf"
      },
      "source": [
        "# Age ground truth"
      ]
    },
    {
      "cell_type": "code",
      "execution_count": null,
      "metadata": {
        "colab": {
          "base_uri": "https://localhost:8080/",
          "height": 283
        },
        "id": "cnyFCAu2JEqB",
        "outputId": "234064d5-3eeb-4fc6-a58e-8118cf071c10"
      },
      "outputs": [
        {
          "data": {
            "text/plain": [
              "[<matplotlib.lines.Line2D at 0x7fc4e8111d90>]"
            ]
          },
          "execution_count": 56,
          "metadata": {},
          "output_type": "execute_result"
        },
        {
          "data": {
            "image/png": "[encoded data removed]",
            "text/plain": [
              "<Figure size 432x288 with 1 Axes>"
            ]
          },
          "metadata": {},
          "output_type": "display_data"
        }
      ],
      "source": [
        "import numpy as np\n",
        "import matplotlib.pyplot as plt\n",
        "\n",
        "#fig,ax = plt.subplots(1)\n",
        "\n",
        "# create some x data and some integers for the y axi\n",
        "#x = (torch.log(lab_age+1)/Mage)\n",
        "#y = torch.log(lab+1)/Mage\n",
        "\n",
        "number_sample = test.shape[0]\n",
        "pred_age_list = []\n",
        "ground_age_list = []\n",
        "with torch.no_grad():\n",
        "    for idx, (test_DNAm_x, lab_age) in enumerate(testdata_loader):\n",
        "    #for i, data in tqdm(enumerate(dataloader), total=int(len(testset)/dataloader.batch_size)):\n",
        "        test_DNAm_x = flatten(test_DNAm_x) \n",
        "        recon_x, mu, logvar, pre_age = model(test_DNAm_x)\n",
        "\n",
        "        pred_age_list.extend(pre_age.view(-1).cpu().data.numpy() )\n",
        "        ground_age_list.extend(lab_age.cpu().data.numpy())\n",
        "\n",
        "y =  pred_age_list\n",
        "#y = to_var(torch.log(lab_age+1)/Mage).cpu().data.numpy()\n",
        "x = ground_age_list\n",
        "# plot the data\n",
        "\n",
        "fig, ax = plt.subplots()\n",
        "ax.scatter(x, y, c='g')\n",
        "ax.plot([0,1],[0,1], transform=ax.transAxes)"
      ]
    },
    {
      "cell_type": "code",
      "execution_count": null,
      "metadata": {
        "colab": {
          "base_uri": "https://localhost:8080/"
        },
        "id": "GtzRyzf0SKDu",
        "outputId": "0fca13ad-60fd-48ce-9a97-e9aac34ddfe1"
      },
      "outputs": [
        {
          "name": "stdout",
          "output_type": "stream",
          "text": [
            "6.25400292225161\n"
          ]
        }
      ],
      "source": [
        "sum1=0.0\n",
        "for i in range(len(x)):\n",
        "  mae1= np.abs(x[i]-y[i])\n",
        "  sum1 += mae1\n",
        "\n",
        "print(sum1/len(x))"
      ]
    },
    {
      "cell_type": "code",
      "execution_count": null,
      "metadata": {
        "colab": {
          "base_uri": "https://localhost:8080/",
          "height": 286
        },
        "id": "kcwCjayfrJVQ",
        "outputId": "43dd9550-77bb-4d3f-ac3e-0f7f1adb283a"
      },
      "outputs": [
        {
          "data": {
            "text/plain": [
              "[<matplotlib.lines.Line2D at 0x7fc4e802b290>]"
            ]
          },
          "execution_count": 57,
          "metadata": {},
          "output_type": "execute_result"
        },
        {
          "data": {
            "image/png": "[encoded data removed]",
            "text/plain": [
              "<Figure size 432x288 with 1 Axes>"
            ]
          },
          "metadata": {},
          "output_type": "display_data"
        }
      ],
      "source": [
        "import numpy as np\n",
        "import matplotlib.pyplot as plt\n",
        "\n",
        "#fig,ax = plt.subplots(1)\n",
        "\n",
        "# create some x data and some integers for the y axi\n",
        "#x = (torch.log(lab_age+1)/Mage)\n",
        "#y = torch.log(lab+1)/Mage\n",
        "\n",
        "number_sample = train.shape[0]\n",
        "pred_age_list = []\n",
        "ground_age_list = []\n",
        "with torch.no_grad():\n",
        "    for idx, (test_DNAm_x, lab_age) in enumerate(traindata_loader):\n",
        "    #for i, data in tqdm(enumerate(dataloader), total=int(len(testset)/dataloader.batch_size)):\n",
        "        test_DNAm_x = flatten(test_DNAm_x) \n",
        "        recon_x, mu, logvar, pre_age = model(test_DNAm_x)\n",
        "\n",
        "        pred_age_list.extend(pre_age.view(-1).cpu().data.numpy() )\n",
        "        ground_age_list.extend(lab_age.cpu().data.numpy())\n",
        "\n",
        "y =  pred_age_list\n",
        "#y = to_var(torch.log(lab_age+1)/Mage).cpu().data.numpy()\n",
        "x = ground_age_list\n",
        "# plot the data\n",
        "\n",
        "fig, ax = plt.subplots()\n",
        "ax.scatter(x, y, c='g')\n",
        "ax.plot([0,1],[0,1], transform=ax.transAxes)"
      ]
    },
    {
      "cell_type": "code",
      "execution_count": null,
      "metadata": {
        "id": "41YkLHrprJWv"
      },
      "outputs": [],
      "source": []
    }
  ],
  "metadata": {
    "accelerator": "GPU",
    "colab": {
      "provenance": [],
      "authorship_tag": "ABX9TyPGGE3Tx4ua5n/3HolHUyCW",
      "include_colab_link": true
    },
    "kernelspec": {
      "display_name": "Python 3",
      "name": "python3"
    },
    "language_info": {
      "name": "python"
    }
  },
  "nbformat": 4,
  "nbformat_minor": 0
}